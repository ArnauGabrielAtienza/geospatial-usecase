{
 "cells": [
  {
   "cell_type": "markdown",
   "metadata": {},
   "source": [
    "# Cloudbutton Geospatial: Water Consumption Workflow"
   ]
  },
  {
   "cell_type": "markdown",
   "metadata": {},
   "source": [
    "---"
   ]
  },
  {
   "cell_type": "code",
   "execution_count": 1,
   "metadata": {},
   "outputs": [],
   "source": [
    "import sys\n",
    "sys.path.append('../')"
   ]
  },
  {
   "cell_type": "code",
   "execution_count": 105,
   "metadata": {
    "ExecuteTime": {
     "end_time": "2021-04-13T14:38:27.706148Z",
     "start_time": "2021-04-13T14:38:27.027515Z"
    }
   },
   "outputs": [],
   "source": [
    "from collections import defaultdict\n",
    "from cloudbutton_geospatial.io_utils.plot import plot_results\n",
    "from cloudbutton_geospatial.utils.notebook import date_picker\n",
    "from rasterio.windows import Window\n",
    "from scipy.spatial import distance_matrix\n",
    "from shapely.geometry import Point, MultiPoint, box\n",
    "from pprint import pprint\n",
    "import functools\n",
    "import datetime\n",
    "import os\n",
    "import shutil\n",
    "import math\n",
    "import numpy as np\n",
    "import pandas as pd\n",
    "import lithops\n",
    "import requests\n",
    "import rasterio\n",
    "import json\n",
    "import random\n",
    "import re\n",
    "import utm\n",
    "import tempfile\n",
    "import ipyleaflet\n",
    "import ipywidgets\n",
    "import concurrent.futures\n",
    "from IPython.display import Image\n",
    "import matplotlib.pyplot as plt\n",
    "from lithops.storage import Storage\n",
    "from lithops.storage.utils import StorageNoSuchKeyError"
   ]
  },
  {
   "cell_type": "markdown",
   "metadata": {},
   "source": [
    "## Workflow parameters"
   ]
  },
  {
   "cell_type": "markdown",
   "metadata": {},
   "source": [
    "Area outside the processed tile that we want to consider for taking SIAM stations into account:"
   ]
  },
  {
   "cell_type": "code",
   "execution_count": 3,
   "metadata": {
    "ExecuteTime": {
     "end_time": "2021-04-13T14:38:28.795793Z",
     "start_time": "2021-04-13T14:38:28.788173Z"
    }
   },
   "outputs": [],
   "source": [
    "AREA_OF_INFLUENCE = 4000"
   ]
  },
  {
   "cell_type": "markdown",
   "metadata": {},
   "source": [
    "Lithops Variables:"
   ]
  },
  {
   "cell_type": "code",
   "execution_count": 4,
   "metadata": {
    "ExecuteTime": {
     "end_time": "2021-04-13T14:38:29.658886Z",
     "start_time": "2021-04-13T14:38:29.654251Z"
    }
   },
   "outputs": [],
   "source": [
    "DATA_BUCKET = 'cloudbutton-geospatial-wc'\n",
    "COMPUTE_BACKEND = 'localhost'\n",
    "STORAGE_BACKEND = 'localhost'\n",
    "STORAGE_PREFIX = 'localhost://'\n",
    "RUNTIME = 'aitorarjona/cloudbutton-geospatial-wc:01'\n",
    "RUNTIME_MEMORY = 2048"
   ]
  },
  {
   "cell_type": "code",
   "execution_count": 5,
   "metadata": {},
   "outputs": [],
   "source": [
    "DTM_ASC_PREFIX = 'DTMs/asc/'\n",
    "DTM_GEOTIFF_PREFIX = 'DTMs/geotiff/'"
   ]
  },
  {
   "cell_type": "markdown",
   "metadata": {},
   "source": [
    "Split tile into square chunks (number of tiles = SPLITS^2):"
   ]
  },
  {
   "cell_type": "code",
   "execution_count": 6,
   "metadata": {
    "ExecuteTime": {
     "end_time": "2021-04-13T14:38:30.525082Z",
     "start_time": "2021-04-13T14:38:30.519883Z"
    }
   },
   "outputs": [],
   "source": [
    "SPLITS = 3"
   ]
  },
  {
   "cell_type": "markdown",
   "metadata": {},
   "source": [
    "Correlation coefficient between elevation and temperature:"
   ]
  },
  {
   "cell_type": "code",
   "execution_count": 7,
   "metadata": {
    "ExecuteTime": {
     "end_time": "2021-04-13T14:38:31.362634Z",
     "start_time": "2021-04-13T14:38:31.359578Z"
    }
   },
   "outputs": [],
   "source": [
    "r = -0.0056"
   ]
  },
  {
   "cell_type": "markdown",
   "metadata": {},
   "source": [
    "Elevation to interpolate temperature:"
   ]
  },
  {
   "cell_type": "code",
   "execution_count": 8,
   "metadata": {
    "ExecuteTime": {
     "end_time": "2021-04-13T14:38:32.187402Z",
     "start_time": "2021-04-13T14:38:32.184798Z"
    }
   },
   "outputs": [],
   "source": [
    "zdet = 2000"
   ]
  },
  {
   "cell_type": "markdown",
   "metadata": {},
   "source": [
    "Day of year to calculate solar irradiation:"
   ]
  },
  {
   "cell_type": "code",
   "execution_count": 9,
   "metadata": {},
   "outputs": [
    {
     "data": {
      "application/vnd.jupyter.widget-view+json": {
       "model_id": "0b26fedb6b144d27b72241524ebab986",
       "version_major": 2,
       "version_minor": 0
      },
      "text/plain": [
       "DatePicker(value=datetime.date(2022, 5, 15), description='Pick a Date')"
      ]
     },
     "metadata": {},
     "output_type": "display_data"
    }
   ],
   "source": [
    "date = date_picker(default=datetime.date(2022, 5, 15))"
   ]
  },
  {
   "cell_type": "code",
   "execution_count": 10,
   "metadata": {
    "ExecuteTime": {
     "end_time": "2021-04-13T14:38:33.304420Z",
     "start_time": "2021-04-13T14:38:33.299098Z"
    }
   },
   "outputs": [
    {
     "data": {
      "text/plain": [
       "135"
      ]
     },
     "execution_count": 10,
     "metadata": {},
     "output_type": "execute_result"
    }
   ],
   "source": [
    "DAY_OF_YEAR = date.value.timetuple().tm_yday\n",
    "DAY_OF_YEAR"
   ]
  },
  {
   "cell_type": "code",
   "execution_count": 11,
   "metadata": {},
   "outputs": [],
   "source": [
    "storage = lithops.storage.Storage(backend=STORAGE_BACKEND)"
   ]
  },
  {
   "cell_type": "code",
   "execution_count": 12,
   "metadata": {},
   "outputs": [
    {
     "name": "stderr",
     "output_type": "stream",
     "text": [
      "2022-06-02 22:31:02,021 [INFO] lithops.config -- Lithops v2.6.0\n",
      "2022-06-02 22:31:02,022 [INFO] lithops.storage.backends.localhost.localhost -- Localhost storage client created\n",
      "2022-06-02 22:31:02,023 [INFO] lithops.localhost.localhost -- Localhost compute client created\n"
     ]
    }
   ],
   "source": [
    "fexec = lithops.FunctionExecutor(backend=COMPUTE_BACKEND, storage=STORAGE_BACKEND, runtime=RUNTIME, runtime_memory=RUNTIME_MEMORY)"
   ]
  },
  {
   "cell_type": "markdown",
   "metadata": {},
   "source": [
    "## Data preparation"
   ]
  },
  {
   "cell_type": "markdown",
   "metadata": {},
   "source": [
    "Get meteorological data for selected date (12:00h) and station locations from Catalonia Open Data portal"
   ]
  },
  {
   "cell_type": "code",
   "execution_count": 13,
   "metadata": {},
   "outputs": [],
   "source": [
    "XEMA_DATA_URL = 'https://analisi.transparenciacatalunya.cat/resource/nzvn-apee.json'\n",
    "XEMA_META_STATIONS = 'https://analisi.transparenciacatalunya.cat/resource/yqwd-vj5e.json'\n",
    "XEMA_META_VARS = 'https://analisi.transparenciacatalunya.cat/resource/4fb2-n3yi.json'\n",
    "\n",
    "def get_meteo_stations():\n",
    "    if os.path.exists('meta_cache/meteo_stations.csv'):\n",
    "        print('Getting meteo station from local cache')\n",
    "        with open('meta_cache/meteo_stations.csv', 'r') as f:\n",
    "            stations_meta = pd.read_csv(f)\n",
    "        return stations_meta\n",
    "    \n",
    "    print('Fetching meteo station from analisi.transparenciacatalunya.cat...')\n",
    "    res = requests.get(XEMA_META_STATIONS, params={'NOM_ESTAT': f'Operativa'})\n",
    "    stations_meta = pd.DataFrame(res.json())\n",
    "    return stations_meta\n",
    "\n",
    "def get_meteo_variables():\n",
    "    if os.path.exists('meta_cache/meteo_variables.csv'):\n",
    "        print('Getting meteo variables from local cache')\n",
    "        with open('meta_cache/meteo_variables.csv', 'r') as f:\n",
    "            vars_meta = pd.read_csv(f)\n",
    "        return vars_meta\n",
    "            \n",
    "    print('Fetching meteo station from analisi.transparenciacatalunya.cat...')\n",
    "    res = requests.get(XEMA_META_VARS)\n",
    "    vars_meta = pd.DataFrame(res.json())\n",
    "    return vars_meta\n",
    "    \n",
    "def get_meteo_data(date, stations_meta, vars_meta):\n",
    "    if os.path.exists(f'meta_cache/meteo-meta-{date.isoformat()}.csv'):\n",
    "        print(f'Getting meteo data for day {date.isoformat()} from local cache')\n",
    "        with open(f'meta_cache/meteo-meta-{date.isoformat()}.csv', 'r') as f:\n",
    "            vars_meta = pd.read_csv(f)\n",
    "        return vars_meta\n",
    "    print(f'Fetching meteo data for day {date.isoformat()} from analisi.transparenciacatalunya.cat...')\n",
    "    res = requests.get(XEMA_DATA_URL, params={'data_lectura': f'{date.isoformat()}T12:00:00.000'})\n",
    "    xema_day = pd.DataFrame(res.json()).set_index('id')\n",
    "    \n",
    "    merged = xema_day.merge(stations_meta, on=\"codi_estacio\").merge(vars_meta, on=\"codi_variable\")\n",
    "    merged = merged[[\"codi_estacio\", \"nom_estacio\", \"latitud\", \"longitud\", \"acronim\", \"valor_lectura\"]]\n",
    "    \n",
    "    merged_transposed = (merged.groupby(['codi_estacio', 'nom_estacio', 'latitud', 'longitud'])\n",
    "                         .apply(lambda group: group[['acronim', 'valor_lectura']].set_index('acronim').T.reset_index(drop=True).rename_axis(None, axis=1))\n",
    "                         .reset_index().drop(['level_4'], axis=1).set_index('codi_estacio'))\n",
    "    x_y_coords = pd.DataFrame(merged_transposed.apply(lambda row: utm.from_latlon(float(row['latitud']), float(row['longitud'])), axis=1).to_list(), \n",
    "                              columns=['X', 'Y', 'zone_num', 'zone_letter'])\n",
    "    x_y_coords = x_y_coords.drop(['zone_num', 'zone_letter'], axis=1)\n",
    "    meteo_data = pd.concat([merged_transposed.reset_index(), x_y_coords.reset_index()], axis=1).drop('index', axis=1).set_index('codi_estacio')\n",
    "    return meteo_data"
   ]
  },
  {
   "cell_type": "code",
   "execution_count": 14,
   "metadata": {},
   "outputs": [],
   "source": [
    "# meteo_data.apply(lambda row: print(type(row['latitud'])), axis=1)"
   ]
  },
  {
   "cell_type": "code",
   "execution_count": 15,
   "metadata": {},
   "outputs": [
    {
     "name": "stdout",
     "output_type": "stream",
     "text": [
      "Getting meteo station from local cache\n",
      "Getting meteo variables from local cache\n",
      "Getting meteo data for day 2022-05-15 from local cache\n"
     ]
    }
   ],
   "source": [
    "meteo_stations = get_meteo_stations()\n",
    "meteo_vars = get_meteo_variables()\n",
    "meteo_data = get_meteo_data(date.value, meteo_stations, meteo_vars)"
   ]
  },
  {
   "cell_type": "code",
   "execution_count": 16,
   "metadata": {},
   "outputs": [
    {
     "data": {
      "text/html": [
       "<div>\n",
       "<style scoped>\n",
       "    .dataframe tbody tr th:only-of-type {\n",
       "        vertical-align: middle;\n",
       "    }\n",
       "\n",
       "    .dataframe tbody tr th {\n",
       "        vertical-align: top;\n",
       "    }\n",
       "\n",
       "    .dataframe thead th {\n",
       "        text-align: right;\n",
       "    }\n",
       "</style>\n",
       "<table border=\"1\" class=\"dataframe\">\n",
       "  <thead>\n",
       "    <tr style=\"text-align: right;\">\n",
       "      <th></th>\n",
       "      <th>codi_estacio</th>\n",
       "      <th>nom_estacio</th>\n",
       "      <th>latitud</th>\n",
       "      <th>longitud</th>\n",
       "      <th>RS</th>\n",
       "      <th>HRx</th>\n",
       "      <th>T</th>\n",
       "      <th>HR</th>\n",
       "      <th>PPT</th>\n",
       "      <th>Tx</th>\n",
       "      <th>...</th>\n",
       "      <th>DV2</th>\n",
       "      <th>VVx2</th>\n",
       "      <th>DVVx2</th>\n",
       "      <th>RN</th>\n",
       "      <th>VV6</th>\n",
       "      <th>DV6</th>\n",
       "      <th>VVx6</th>\n",
       "      <th>DVVx6</th>\n",
       "      <th>X</th>\n",
       "      <th>Y</th>\n",
       "    </tr>\n",
       "  </thead>\n",
       "  <tbody>\n",
       "    <tr>\n",
       "      <th>6</th>\n",
       "      <td>CE</td>\n",
       "      <td>els Hostalets de Pierola</td>\n",
       "      <td>41.53109</td>\n",
       "      <td>1.80813</td>\n",
       "      <td>945.0</td>\n",
       "      <td>24.0</td>\n",
       "      <td>28.5</td>\n",
       "      <td>22.0</td>\n",
       "      <td>0.0</td>\n",
       "      <td>29.0</td>\n",
       "      <td>...</td>\n",
       "      <td>NaN</td>\n",
       "      <td>NaN</td>\n",
       "      <td>NaN</td>\n",
       "      <td>NaN</td>\n",
       "      <td>NaN</td>\n",
       "      <td>NaN</td>\n",
       "      <td>NaN</td>\n",
       "      <td>NaN</td>\n",
       "      <td>400569.938024</td>\n",
       "      <td>4.598402e+06</td>\n",
       "    </tr>\n",
       "    <tr>\n",
       "      <th>58</th>\n",
       "      <td>UH</td>\n",
       "      <td>el Montmell</td>\n",
       "      <td>41.34171</td>\n",
       "      <td>1.48769</td>\n",
       "      <td>977.0</td>\n",
       "      <td>30.0</td>\n",
       "      <td>27.9</td>\n",
       "      <td>29.0</td>\n",
       "      <td>0.0</td>\n",
       "      <td>28.6</td>\n",
       "      <td>...</td>\n",
       "      <td>NaN</td>\n",
       "      <td>NaN</td>\n",
       "      <td>NaN</td>\n",
       "      <td>NaN</td>\n",
       "      <td>3.1</td>\n",
       "      <td>172.0</td>\n",
       "      <td>7.8</td>\n",
       "      <td>149.0</td>\n",
       "      <td>373469.650719</td>\n",
       "      <td>4.577794e+06</td>\n",
       "    </tr>\n",
       "    <tr>\n",
       "      <th>49</th>\n",
       "      <td>U4</td>\n",
       "      <td>Castellnou de Bages</td>\n",
       "      <td>41.83094</td>\n",
       "      <td>1.84699</td>\n",
       "      <td>1011.0</td>\n",
       "      <td>30.0</td>\n",
       "      <td>27.9</td>\n",
       "      <td>28.0</td>\n",
       "      <td>0.0</td>\n",
       "      <td>28.5</td>\n",
       "      <td>...</td>\n",
       "      <td>NaN</td>\n",
       "      <td>NaN</td>\n",
       "      <td>NaN</td>\n",
       "      <td>NaN</td>\n",
       "      <td>NaN</td>\n",
       "      <td>NaN</td>\n",
       "      <td>NaN</td>\n",
       "      <td>NaN</td>\n",
       "      <td>404257.392259</td>\n",
       "      <td>4.631649e+06</td>\n",
       "    </tr>\n",
       "    <tr>\n",
       "      <th>69</th>\n",
       "      <td>UW</td>\n",
       "      <td>els Alfacs</td>\n",
       "      <td>40.62725</td>\n",
       "      <td>0.65922</td>\n",
       "      <td>961.0</td>\n",
       "      <td>74.0</td>\n",
       "      <td>23.6</td>\n",
       "      <td>70.0</td>\n",
       "      <td>0.0</td>\n",
       "      <td>23.9</td>\n",
       "      <td>...</td>\n",
       "      <td>163.0</td>\n",
       "      <td>3.1</td>\n",
       "      <td>139.0</td>\n",
       "      <td>500.0</td>\n",
       "      <td>NaN</td>\n",
       "      <td>NaN</td>\n",
       "      <td>NaN</td>\n",
       "      <td>NaN</td>\n",
       "      <td>302023.458241</td>\n",
       "      <td>4.500014e+06</td>\n",
       "    </tr>\n",
       "    <tr>\n",
       "      <th>63</th>\n",
       "      <td>UN</td>\n",
       "      <td>Cassà de la Selva</td>\n",
       "      <td>41.87449</td>\n",
       "      <td>2.92694</td>\n",
       "      <td>927.0</td>\n",
       "      <td>37.0</td>\n",
       "      <td>26.9</td>\n",
       "      <td>35.0</td>\n",
       "      <td>0.0</td>\n",
       "      <td>27.7</td>\n",
       "      <td>...</td>\n",
       "      <td>193.0</td>\n",
       "      <td>7.9</td>\n",
       "      <td>222.0</td>\n",
       "      <td>NaN</td>\n",
       "      <td>NaN</td>\n",
       "      <td>NaN</td>\n",
       "      <td>NaN</td>\n",
       "      <td>NaN</td>\n",
       "      <td>493937.469003</td>\n",
       "      <td>4.635844e+06</td>\n",
       "    </tr>\n",
       "    <tr>\n",
       "      <th>16</th>\n",
       "      <td>CY</td>\n",
       "      <td>Muntanyola</td>\n",
       "      <td>41.87813</td>\n",
       "      <td>2.17873</td>\n",
       "      <td>926.0</td>\n",
       "      <td>32.0</td>\n",
       "      <td>25.1</td>\n",
       "      <td>31.0</td>\n",
       "      <td>0.0</td>\n",
       "      <td>25.6</td>\n",
       "      <td>...</td>\n",
       "      <td>NaN</td>\n",
       "      <td>NaN</td>\n",
       "      <td>NaN</td>\n",
       "      <td>NaN</td>\n",
       "      <td>NaN</td>\n",
       "      <td>NaN</td>\n",
       "      <td>NaN</td>\n",
       "      <td>NaN</td>\n",
       "      <td>431854.488644</td>\n",
       "      <td>4.636571e+06</td>\n",
       "    </tr>\n",
       "    <tr>\n",
       "      <th>76</th>\n",
       "      <td>Z8</td>\n",
       "      <td>el Port del Comte (2.316 m)</td>\n",
       "      <td>42.18254</td>\n",
       "      <td>1.52407</td>\n",
       "      <td>NaN</td>\n",
       "      <td>NaN</td>\n",
       "      <td>NaN</td>\n",
       "      <td>NaN</td>\n",
       "      <td>0.0</td>\n",
       "      <td>NaN</td>\n",
       "      <td>...</td>\n",
       "      <td>NaN</td>\n",
       "      <td>NaN</td>\n",
       "      <td>NaN</td>\n",
       "      <td>NaN</td>\n",
       "      <td>NaN</td>\n",
       "      <td>NaN</td>\n",
       "      <td>NaN</td>\n",
       "      <td>NaN</td>\n",
       "      <td>378115.601242</td>\n",
       "      <td>4.671098e+06</td>\n",
       "    </tr>\n",
       "    <tr>\n",
       "      <th>59</th>\n",
       "      <td>UI</td>\n",
       "      <td>Gisclareny</td>\n",
       "      <td>42.26477</td>\n",
       "      <td>1.76218</td>\n",
       "      <td>NaN</td>\n",
       "      <td>41.0</td>\n",
       "      <td>22.2</td>\n",
       "      <td>37.0</td>\n",
       "      <td>0.0</td>\n",
       "      <td>22.9</td>\n",
       "      <td>...</td>\n",
       "      <td>NaN</td>\n",
       "      <td>NaN</td>\n",
       "      <td>NaN</td>\n",
       "      <td>NaN</td>\n",
       "      <td>NaN</td>\n",
       "      <td>NaN</td>\n",
       "      <td>NaN</td>\n",
       "      <td>NaN</td>\n",
       "      <td>397911.980584</td>\n",
       "      <td>4.679916e+06</td>\n",
       "    </tr>\n",
       "    <tr>\n",
       "      <th>36</th>\n",
       "      <td>DQ</td>\n",
       "      <td>Vila-rodona</td>\n",
       "      <td>41.30728</td>\n",
       "      <td>1.36259</td>\n",
       "      <td>955.0</td>\n",
       "      <td>30.0</td>\n",
       "      <td>26.6</td>\n",
       "      <td>29.0</td>\n",
       "      <td>0.0</td>\n",
       "      <td>27.0</td>\n",
       "      <td>...</td>\n",
       "      <td>NaN</td>\n",
       "      <td>NaN</td>\n",
       "      <td>NaN</td>\n",
       "      <td>NaN</td>\n",
       "      <td>NaN</td>\n",
       "      <td>NaN</td>\n",
       "      <td>NaN</td>\n",
       "      <td>NaN</td>\n",
       "      <td>362930.409195</td>\n",
       "      <td>4.574162e+06</td>\n",
       "    </tr>\n",
       "    <tr>\n",
       "      <th>3</th>\n",
       "      <td>C9</td>\n",
       "      <td>Mas de Barberans</td>\n",
       "      <td>40.71825</td>\n",
       "      <td>0.39988</td>\n",
       "      <td>953.0</td>\n",
       "      <td>36.0</td>\n",
       "      <td>24.8</td>\n",
       "      <td>34.0</td>\n",
       "      <td>0.0</td>\n",
       "      <td>25.5</td>\n",
       "      <td>...</td>\n",
       "      <td>NaN</td>\n",
       "      <td>NaN</td>\n",
       "      <td>NaN</td>\n",
       "      <td>NaN</td>\n",
       "      <td>NaN</td>\n",
       "      <td>NaN</td>\n",
       "      <td>NaN</td>\n",
       "      <td>NaN</td>\n",
       "      <td>280386.027555</td>\n",
       "      <td>4.510733e+06</td>\n",
       "    </tr>\n",
       "  </tbody>\n",
       "</table>\n",
       "<p>10 rows × 32 columns</p>\n",
       "</div>"
      ],
      "text/plain": [
       "   codi_estacio                  nom_estacio   latitud  longitud      RS  \\\n",
       "6            CE     els Hostalets de Pierola  41.53109   1.80813   945.0   \n",
       "58           UH                  el Montmell  41.34171   1.48769   977.0   \n",
       "49           U4          Castellnou de Bages  41.83094   1.84699  1011.0   \n",
       "69           UW                   els Alfacs  40.62725   0.65922   961.0   \n",
       "63           UN            Cassà de la Selva  41.87449   2.92694   927.0   \n",
       "16           CY                   Muntanyola  41.87813   2.17873   926.0   \n",
       "76           Z8  el Port del Comte (2.316 m)  42.18254   1.52407     NaN   \n",
       "59           UI                   Gisclareny  42.26477   1.76218     NaN   \n",
       "36           DQ                  Vila-rodona  41.30728   1.36259   955.0   \n",
       "3            C9             Mas de Barberans  40.71825   0.39988   953.0   \n",
       "\n",
       "     HRx     T    HR  PPT    Tx  ...    DV2  VVx2  DVVx2     RN  VV6    DV6  \\\n",
       "6   24.0  28.5  22.0  0.0  29.0  ...    NaN   NaN    NaN    NaN  NaN    NaN   \n",
       "58  30.0  27.9  29.0  0.0  28.6  ...    NaN   NaN    NaN    NaN  3.1  172.0   \n",
       "49  30.0  27.9  28.0  0.0  28.5  ...    NaN   NaN    NaN    NaN  NaN    NaN   \n",
       "69  74.0  23.6  70.0  0.0  23.9  ...  163.0   3.1  139.0  500.0  NaN    NaN   \n",
       "63  37.0  26.9  35.0  0.0  27.7  ...  193.0   7.9  222.0    NaN  NaN    NaN   \n",
       "16  32.0  25.1  31.0  0.0  25.6  ...    NaN   NaN    NaN    NaN  NaN    NaN   \n",
       "76   NaN   NaN   NaN  0.0   NaN  ...    NaN   NaN    NaN    NaN  NaN    NaN   \n",
       "59  41.0  22.2  37.0  0.0  22.9  ...    NaN   NaN    NaN    NaN  NaN    NaN   \n",
       "36  30.0  26.6  29.0  0.0  27.0  ...    NaN   NaN    NaN    NaN  NaN    NaN   \n",
       "3   36.0  24.8  34.0  0.0  25.5  ...    NaN   NaN    NaN    NaN  NaN    NaN   \n",
       "\n",
       "    VVx6  DVVx6              X             Y  \n",
       "6    NaN    NaN  400569.938024  4.598402e+06  \n",
       "58   7.8  149.0  373469.650719  4.577794e+06  \n",
       "49   NaN    NaN  404257.392259  4.631649e+06  \n",
       "69   NaN    NaN  302023.458241  4.500014e+06  \n",
       "63   NaN    NaN  493937.469003  4.635844e+06  \n",
       "16   NaN    NaN  431854.488644  4.636571e+06  \n",
       "76   NaN    NaN  378115.601242  4.671098e+06  \n",
       "59   NaN    NaN  397911.980584  4.679916e+06  \n",
       "36   NaN    NaN  362930.409195  4.574162e+06  \n",
       "3    NaN    NaN  280386.027555  4.510733e+06  \n",
       "\n",
       "[10 rows x 32 columns]"
      ]
     },
     "execution_count": 16,
     "metadata": {},
     "output_type": "execute_result"
    }
   ],
   "source": [
    "meteo_data.sample(10)"
   ]
  },
  {
   "cell_type": "code",
   "execution_count": 17,
   "metadata": {},
   "outputs": [
    {
     "data": {
      "text/html": [
       "<div>\n",
       "<style scoped>\n",
       "    .dataframe tbody tr th:only-of-type {\n",
       "        vertical-align: middle;\n",
       "    }\n",
       "\n",
       "    .dataframe tbody tr th {\n",
       "        vertical-align: top;\n",
       "    }\n",
       "\n",
       "    .dataframe thead th {\n",
       "        text-align: right;\n",
       "    }\n",
       "</style>\n",
       "<table border=\"1\" class=\"dataframe\">\n",
       "  <thead>\n",
       "    <tr style=\"text-align: right;\">\n",
       "      <th></th>\n",
       "      <th>acronim</th>\n",
       "      <th>nom_variable</th>\n",
       "      <th>unitat</th>\n",
       "    </tr>\n",
       "  </thead>\n",
       "  <tbody>\n",
       "    <tr>\n",
       "      <th>0</th>\n",
       "      <td>PPTx1min</td>\n",
       "      <td>Precipitació màxima en 1 minut</td>\n",
       "      <td>mm</td>\n",
       "    </tr>\n",
       "    <tr>\n",
       "      <th>1</th>\n",
       "      <td>HRx</td>\n",
       "      <td>Humitat relativa màxima</td>\n",
       "      <td>%</td>\n",
       "    </tr>\n",
       "    <tr>\n",
       "      <th>2</th>\n",
       "      <td>VV10</td>\n",
       "      <td>Velocitat del vent a 10 m (esc.)</td>\n",
       "      <td>m/s</td>\n",
       "    </tr>\n",
       "    <tr>\n",
       "      <th>3</th>\n",
       "      <td>DV10</td>\n",
       "      <td>Direcció de vent 10 m (m. 1)</td>\n",
       "      <td>°</td>\n",
       "    </tr>\n",
       "    <tr>\n",
       "      <th>4</th>\n",
       "      <td>T</td>\n",
       "      <td>Temperatura</td>\n",
       "      <td>°C</td>\n",
       "    </tr>\n",
       "    <tr>\n",
       "      <th>5</th>\n",
       "      <td>HR</td>\n",
       "      <td>Humitat relativa</td>\n",
       "      <td>%</td>\n",
       "    </tr>\n",
       "    <tr>\n",
       "      <th>6</th>\n",
       "      <td>P</td>\n",
       "      <td>Pressió atmosfèrica</td>\n",
       "      <td>hPa</td>\n",
       "    </tr>\n",
       "    <tr>\n",
       "      <th>7</th>\n",
       "      <td>PPT</td>\n",
       "      <td>Precipitació</td>\n",
       "      <td>mm</td>\n",
       "    </tr>\n",
       "    <tr>\n",
       "      <th>8</th>\n",
       "      <td>RS</td>\n",
       "      <td>Irradiància solar global</td>\n",
       "      <td>W/m²</td>\n",
       "    </tr>\n",
       "    <tr>\n",
       "      <th>9</th>\n",
       "      <td>GNEU</td>\n",
       "      <td>Gruix de neu a terra</td>\n",
       "      <td>mm</td>\n",
       "    </tr>\n",
       "    <tr>\n",
       "      <th>10</th>\n",
       "      <td>Tx</td>\n",
       "      <td>Temperatura màxima</td>\n",
       "      <td>°C</td>\n",
       "    </tr>\n",
       "    <tr>\n",
       "      <th>11</th>\n",
       "      <td>Tn</td>\n",
       "      <td>Temperatura mínima</td>\n",
       "      <td>°C</td>\n",
       "    </tr>\n",
       "    <tr>\n",
       "      <th>12</th>\n",
       "      <td>HRn</td>\n",
       "      <td>Humitat relativa mínima</td>\n",
       "      <td>%</td>\n",
       "    </tr>\n",
       "    <tr>\n",
       "      <th>13</th>\n",
       "      <td>VV2</td>\n",
       "      <td>Velocitat del vent a 2 m (esc.)</td>\n",
       "      <td>m/s</td>\n",
       "    </tr>\n",
       "    <tr>\n",
       "      <th>14</th>\n",
       "      <td>DV2</td>\n",
       "      <td>Direcció del vent a 2 m (m. 1)</td>\n",
       "      <td>°</td>\n",
       "    </tr>\n",
       "    <tr>\n",
       "      <th>15</th>\n",
       "      <td>VV6</td>\n",
       "      <td>Velocitat del vent a 6 m (esc.)</td>\n",
       "      <td>m/s</td>\n",
       "    </tr>\n",
       "    <tr>\n",
       "      <th>16</th>\n",
       "      <td>DV6</td>\n",
       "      <td>Direcció del vent a 6 m (m. 1)</td>\n",
       "      <td>°</td>\n",
       "    </tr>\n",
       "    <tr>\n",
       "      <th>17</th>\n",
       "      <td>VVx10</td>\n",
       "      <td>Ratxa màxima del vent a 10 m</td>\n",
       "      <td>m/s</td>\n",
       "    </tr>\n",
       "    <tr>\n",
       "      <th>18</th>\n",
       "      <td>DVVx10</td>\n",
       "      <td>Direcció de la ratxa màxima del vent a 10 m</td>\n",
       "      <td>°</td>\n",
       "    </tr>\n",
       "    <tr>\n",
       "      <th>19</th>\n",
       "      <td>VVx6</td>\n",
       "      <td>Ratxa màxima del vent a 6 m</td>\n",
       "      <td>m/s</td>\n",
       "    </tr>\n",
       "    <tr>\n",
       "      <th>20</th>\n",
       "      <td>DVVx6</td>\n",
       "      <td>Direcció de la ratxa màxima del vent a 6 m</td>\n",
       "      <td>°</td>\n",
       "    </tr>\n",
       "    <tr>\n",
       "      <th>21</th>\n",
       "      <td>VVx2</td>\n",
       "      <td>Ratxa màxima del vent a 2 m</td>\n",
       "      <td>m/s</td>\n",
       "    </tr>\n",
       "    <tr>\n",
       "      <th>22</th>\n",
       "      <td>DVVx2</td>\n",
       "      <td>Direcció de la ratxa màxima del vent a 2 m</td>\n",
       "      <td>°</td>\n",
       "    </tr>\n",
       "    <tr>\n",
       "      <th>23</th>\n",
       "      <td>RN</td>\n",
       "      <td>Irradiància neta</td>\n",
       "      <td>W/m²</td>\n",
       "    </tr>\n",
       "    <tr>\n",
       "      <th>24</th>\n",
       "      <td>Px</td>\n",
       "      <td>Pressió atmosfèrica màxima</td>\n",
       "      <td>hPa</td>\n",
       "    </tr>\n",
       "    <tr>\n",
       "      <th>25</th>\n",
       "      <td>Pn</td>\n",
       "      <td>Pressió atmosfèrica mínima</td>\n",
       "      <td>hPa</td>\n",
       "    </tr>\n",
       "  </tbody>\n",
       "</table>\n",
       "</div>"
      ],
      "text/plain": [
       "     acronim                                 nom_variable unitat\n",
       "0   PPTx1min               Precipitació màxima en 1 minut     mm\n",
       "1        HRx                      Humitat relativa màxima      %\n",
       "2       VV10             Velocitat del vent a 10 m (esc.)    m/s\n",
       "3       DV10                 Direcció de vent 10 m (m. 1)      °\n",
       "4          T                                  Temperatura     °C\n",
       "5         HR                             Humitat relativa      %\n",
       "6          P                          Pressió atmosfèrica    hPa\n",
       "7        PPT                                 Precipitació     mm\n",
       "8         RS                     Irradiància solar global   W/m²\n",
       "9       GNEU                         Gruix de neu a terra     mm\n",
       "10        Tx                           Temperatura màxima     °C\n",
       "11        Tn                           Temperatura mínima     °C\n",
       "12       HRn                      Humitat relativa mínima      %\n",
       "13       VV2              Velocitat del vent a 2 m (esc.)    m/s\n",
       "14       DV2               Direcció del vent a 2 m (m. 1)      °\n",
       "15       VV6              Velocitat del vent a 6 m (esc.)    m/s\n",
       "16       DV6               Direcció del vent a 6 m (m. 1)      °\n",
       "17     VVx10                 Ratxa màxima del vent a 10 m    m/s\n",
       "18    DVVx10  Direcció de la ratxa màxima del vent a 10 m      °\n",
       "19      VVx6                  Ratxa màxima del vent a 6 m    m/s\n",
       "20     DVVx6   Direcció de la ratxa màxima del vent a 6 m      °\n",
       "21      VVx2                  Ratxa màxima del vent a 2 m    m/s\n",
       "22     DVVx2   Direcció de la ratxa màxima del vent a 2 m      °\n",
       "23        RN                             Irradiància neta   W/m²\n",
       "24        Px                   Pressió atmosfèrica màxima    hPa\n",
       "25        Pn                   Pressió atmosfèrica mínima    hPa"
      ]
     },
     "execution_count": 17,
     "metadata": {},
     "output_type": "execute_result"
    }
   ],
   "source": [
    "meteo_vars[['acronim', 'nom_variable', 'unitat']]"
   ]
  },
  {
   "cell_type": "markdown",
   "metadata": {},
   "source": [
    "Store metadata to local cache"
   ]
  },
  {
   "cell_type": "code",
   "execution_count": 18,
   "metadata": {},
   "outputs": [],
   "source": [
    "if not os.path.exists('meta_cache/meteo_stations.csv'):\n",
    "    with open('meta_cache/meteo_stations.csv', 'w') as f:\n",
    "        meteo_stations.to_csv(f, index=False)\n",
    "\n",
    "if not os.path.exists('meta_cache/meteo_variables.csv'):\n",
    "    with open('meta_cache/meteo_variables.csv', 'w') as f:\n",
    "        meteo_vars.to_csv(f, index=False)\n",
    "        \n",
    "if not os.path.exists(f'meta_cache/meteo-meta-{date.value.isoformat()}.csv'):\n",
    "    with open(f'meta_cache/meteo-meta-{date.value.isoformat()}.csv', 'w') as f:\n",
    "        meteo_data.to_csv(f, index=True)"
   ]
  },
  {
   "cell_type": "markdown",
   "metadata": {},
   "source": [
    "Upload metadata to Cloud Object Storage"
   ]
  },
  {
   "cell_type": "code",
   "execution_count": 19,
   "metadata": {},
   "outputs": [
    {
     "name": "stdout",
     "output_type": "stream",
     "text": [
      "Uploading meteo data to Object Storage...\n"
     ]
    }
   ],
   "source": [
    "meteo_key = f'meteo-meta-{date.value.isoformat()}.csv'\n",
    "try:\n",
    "    storage.head_object(bucket=DATA_BUCKET, key=meteo_key)\n",
    "except StorageNoSuchKeyError:\n",
    "    print('Uploading meteo data to Object Storage...')\n",
    "    body = meteo_data.to_csv().encode('utf-8')\n",
    "    storage.put_object(bucket=DATA_BUCKET, key=meteo_key, body=body)"
   ]
  },
  {
   "cell_type": "markdown",
   "metadata": {},
   "source": [
    "### Digital Terrain Models"
   ]
  },
  {
   "cell_type": "markdown",
   "metadata": {},
   "source": [
    "Download DTM files for free from http://centrodedescargas.cnig.es/CentroDescargas/buscadorCatalogo.do?codFamilia=MDT05# and put them in `inpit_DTMs` folder."
   ]
  },
  {
   "cell_type": "code",
   "execution_count": 20,
   "metadata": {},
   "outputs": [
    {
     "data": {
      "text/plain": [
       "[]"
      ]
     },
     "execution_count": 20,
     "metadata": {},
     "output_type": "execute_result"
    }
   ],
   "source": [
    "dtm_asc_keys = storage.list_keys(bucket=DATA_BUCKET, prefix=DTM_ASC_PREFIX)\n",
    "dtm_asc_keys"
   ]
  },
  {
   "cell_type": "markdown",
   "metadata": {},
   "source": [
    "Upload tiles from local input folder:"
   ]
  },
  {
   "cell_type": "code",
   "execution_count": 21,
   "metadata": {
    "ExecuteTime": {
     "end_time": "2021-04-07T09:48:12.000399Z",
     "start_time": "2021-04-07T09:48:11.986192Z"
    }
   },
   "outputs": [
    {
     "name": "stdout",
     "output_type": "stream",
     "text": [
      "Uploading DTMs/asc/PNOA_MDT05_ETRS89_HU31_0359_LID.asc...\n"
     ]
    }
   ],
   "source": [
    "local_dtm_input = 'input_DTMs'\n",
    "local_dtms = [os.path.join(local_dtm_input, dtm) for dtm in os.listdir(local_dtm_input) if dtm.endswith('.asc')]\n",
    "\n",
    "def upload_file(file_path):\n",
    "    key = os.path.join(DTM_ASC_PREFIX, os.path.basename(file_path))\n",
    "    if key in dtm_asc_keys:\n",
    "        print(f'Tile {key} already in storage')\n",
    "        return key\n",
    "    with open(file_path, 'rb') as f:\n",
    "        print(f'Uploading {key}...')\n",
    "        storage.put_object(bucket=DATA_BUCKET, key=key, body=f)\n",
    "    return key\n",
    "\n",
    "with concurrent.futures.ThreadPoolExecutor(max_workers=16) as pool:\n",
    "    result = list(pool.map(upload_file, local_dtms))\n",
    "    # list(result)"
   ]
  },
  {
   "cell_type": "code",
   "execution_count": 22,
   "metadata": {},
   "outputs": [],
   "source": [
    "def asc_to_geotiff(obj, storage):\n",
    "    asc_file_name = os.path.basename(obj.key)\n",
    "    tile_id, _ = os.path.splitext(asc_file_name)\n",
    "    out_path = os.path.join(tempfile.gettempdir(), tile_id + '.tiff')\n",
    "    out_key = os.path.join(DTM_GEOTIFF_PREFIX, tile_id + '.tiff')\n",
    "    \n",
    "    try:\n",
    "        out_obj = storage.head_object(bucket=DATA_BUCKET, key=out_key)\n",
    "    except StorageNoSuchKeyError:\n",
    "        out_obj = None\n",
    "    \n",
    "    if out_obj:\n",
    "        print(f'GeoTIFF {tile_id} already exists, skipping...')\n",
    "        return out_key\n",
    "    \n",
    "    print(f'Converting {tile_id} to GeoTIFF...')\n",
    "    with rasterio.open(obj.data_stream, 'r') as src:\n",
    "        profile = src.profile\n",
    "        # Cloud optimized GeoTiff parameters\n",
    "        profile.update(driver='GTiff')\n",
    "        profile.update(blockxsize=256)\n",
    "        profile.update(blockysize=256)\n",
    "        profile.update(tiled=True)\n",
    "        profile.update(compress='deflate')\n",
    "        profile.update(interleave='band')\n",
    "        with rasterio.open(out_path, 'w', **profile) as dest:\n",
    "            dest.write(src.read())\n",
    "    \n",
    "    with open(out_path, 'rb') as f:\n",
    "        storage.put_object(bucket=DATA_BUCKET, key=out_key, body=f)\n",
    "    \n",
    "    return out_key"
   ]
  },
  {
   "cell_type": "code",
   "execution_count": 24,
   "metadata": {},
   "outputs": [
    {
     "name": "stderr",
     "output_type": "stream",
     "text": [
      "2022-06-02 22:34:28,996 [INFO] lithops.invokers -- ExecutorID d90394-0 | JobID M001 - Selected Runtime: aitorarjona/cloudbutton-geospatial-wc:01 \n",
      "2022-06-02 22:34:29,000 [INFO] lithops.invokers -- Runtime aitorarjona/cloudbutton-geospatial-wc:01 is not yet deployed\n",
      "2022-06-02 22:34:29,001 [INFO] lithops.localhost.localhost -- Extracting preinstalled Python modules from aitorarjona/cloudbutton-geospatial-wc:01\n",
      "2022-06-02 22:34:30,189 [INFO] lithops.invokers -- ExecutorID d90394-0 | JobID M001 - Starting function invocation: asc_to_geotiff() - Total: 1 activations\n",
      "2022-06-02 22:34:30,191 [INFO] lithops.invokers -- ExecutorID d90394-0 | JobID M001 - View execution logs at /tmp/lithops/logs/d90394-0-M001.log\n"
     ]
    }
   ],
   "source": [
    "fs = fexec.map(asc_to_geotiff, os.path.join(STORAGE_PREFIX, DATA_BUCKET, DTM_ASC_PREFIX))"
   ]
  },
  {
   "cell_type": "code",
   "execution_count": 25,
   "metadata": {},
   "outputs": [
    {
     "name": "stderr",
     "output_type": "stream",
     "text": [
      "2022-06-02 22:34:33,774 [INFO] lithops.wait -- ExecutorID d90394-0 - Waiting for 100% of 1 function activations to complete\n"
     ]
    },
    {
     "data": {
      "application/vnd.jupyter.widget-view+json": {
       "model_id": "4cd8db8c2d8e499594abd0cf5ebe2512",
       "version_major": 2,
       "version_minor": 0
      },
      "text/plain": [
       "    0%|          | 0/1  "
      ]
     },
     "metadata": {},
     "output_type": "display_data"
    }
   ],
   "source": [
    "_, _ = fexec.wait(fs=fs)"
   ]
  },
  {
   "cell_type": "code",
   "execution_count": 26,
   "metadata": {},
   "outputs": [
    {
     "data": {
      "text/plain": [
       "['DTMs/geotiff/PNOA_MDT05_ETRS89_HU31_0359_LID.tiff']"
      ]
     },
     "execution_count": 26,
     "metadata": {},
     "output_type": "execute_result"
    }
   ],
   "source": [
    "dtm_geotiff_keys = storage.list_keys(bucket=DATA_BUCKET, prefix=DTM_GEOTIFF_PREFIX)\n",
    "dtm_geotiff_keys"
   ]
  },
  {
   "cell_type": "code",
   "execution_count": 27,
   "metadata": {
    "ExecuteTime": {
     "end_time": "2021-04-07T09:48:13.697506Z",
     "start_time": "2021-04-07T09:48:13.691877Z"
    }
   },
   "outputs": [
    {
     "data": {
      "text/plain": [
       "['PNOA_MDT05_ETRS89_HU31_0359_LID']"
      ]
     },
     "execution_count": 27,
     "metadata": {},
     "output_type": "execute_result"
    }
   ],
   "source": [
    "tile_ids = [os.path.splitext(os.path.basename(dtm))[0] for dtm in dtm_geotiff_keys]\n",
    "tile_ids"
   ]
  },
  {
   "cell_type": "code",
   "execution_count": 115,
   "metadata": {},
   "outputs": [
    {
     "data": {
      "application/vnd.jupyter.widget-view+json": {
       "model_id": "6dd173de9901494c89c7282f154113b0",
       "version_major": 2,
       "version_minor": 0
      },
      "text/plain": [
       "Map(center=[41.714557, 1.734188], controls=(ZoomControl(options=['position', 'zoom_in_text', 'zoom_in_title', …"
      ]
     },
     "metadata": {},
     "output_type": "display_data"
    }
   ],
   "source": [
    "m = ipyleaflet.Map(center=(41.714557, 1.734188), zoom=8)\n",
    "\n",
    "for name, lat, lon in meteo_data[['nom_estacio', 'latitud', 'longitud']].values:\n",
    "    message = ipywidgets.HTML(value=name)\n",
    "    marker = ipyleaflet.Marker(location=(lat, lon), draggable=True, title=name)\n",
    "    marker.popup = message\n",
    "    m.add_layer(marker)\n",
    "\n",
    "m.layout.height=\"600px\"\n",
    "\n",
    "m"
   ]
  },
  {
   "cell_type": "markdown",
   "metadata": {},
   "source": [
    "## Serverless computation"
   ]
  },
  {
   "cell_type": "markdown",
   "metadata": {},
   "source": [
    "Split data tiles in subtiles for increased parallelism:"
   ]
  },
  {
   "cell_type": "code",
   "execution_count": 28,
   "metadata": {},
   "outputs": [],
   "source": [
    "def data_chunker(obj, n_splits, block_x, block_y, storage):\n",
    "    tile_key = os.path.basename(obj.key)\n",
    "    tile_id, _ = os.path.splitext(tile_key)\n",
    "    \n",
    "    with rasterio.open(obj.data_stream) as src:\n",
    "        transform = src.transform\n",
    "        \n",
    "        # Compute working window\n",
    "        step_w = src.width / n_splits\n",
    "        step_h = src.height / n_splits\n",
    "        \n",
    "        offset_h = round(step_h * block_x)\n",
    "        offset_w = round(step_w * block_y)\n",
    "        \n",
    "        profile = src.profile\n",
    "        \n",
    "        width = math.ceil(step_w * (block_y + 1) - offset_w)\n",
    "        height = math.ceil(step_h * (block_x + 1) - offset_h)\n",
    "        \n",
    "        profile.update(width=width)\n",
    "        profile.update(height=height)\n",
    "        \n",
    "        window = Window(offset_w,offset_h, width, height)\n",
    "        \n",
    "        chunk_file = os.path.join(tempfile.gettempdir(), tile_id + str(block_x) + '_' + str(block_y) + '.tif')\n",
    "        with rasterio.open(chunk_file, 'w', **profile) as dest:\n",
    "            dest.write(src.read(window=window))\n",
    "    \n",
    "    with open(chunk_file, 'rb') as f:\n",
    "        co = storage.put_cloudobject(body=f, bucket=DATA_BUCKET)\n",
    "    \n",
    "    return (tile_key, block_x, block_y, co)"
   ]
  },
  {
   "cell_type": "code",
   "execution_count": 29,
   "metadata": {},
   "outputs": [
    {
     "data": {
      "text/plain": [
       "[('localhost://cloudbutton-geospatial-wc/DTMs/geotiff/PNOA_MDT05_ETRS89_HU31_0359_LID.tiff',\n",
       "  3,\n",
       "  0,\n",
       "  0),\n",
       " ('localhost://cloudbutton-geospatial-wc/DTMs/geotiff/PNOA_MDT05_ETRS89_HU31_0359_LID.tiff',\n",
       "  3,\n",
       "  0,\n",
       "  1),\n",
       " ('localhost://cloudbutton-geospatial-wc/DTMs/geotiff/PNOA_MDT05_ETRS89_HU31_0359_LID.tiff',\n",
       "  3,\n",
       "  0,\n",
       "  2),\n",
       " ('localhost://cloudbutton-geospatial-wc/DTMs/geotiff/PNOA_MDT05_ETRS89_HU31_0359_LID.tiff',\n",
       "  3,\n",
       "  1,\n",
       "  0),\n",
       " ('localhost://cloudbutton-geospatial-wc/DTMs/geotiff/PNOA_MDT05_ETRS89_HU31_0359_LID.tiff',\n",
       "  3,\n",
       "  1,\n",
       "  1),\n",
       " ('localhost://cloudbutton-geospatial-wc/DTMs/geotiff/PNOA_MDT05_ETRS89_HU31_0359_LID.tiff',\n",
       "  3,\n",
       "  1,\n",
       "  2),\n",
       " ('localhost://cloudbutton-geospatial-wc/DTMs/geotiff/PNOA_MDT05_ETRS89_HU31_0359_LID.tiff',\n",
       "  3,\n",
       "  2,\n",
       "  0),\n",
       " ('localhost://cloudbutton-geospatial-wc/DTMs/geotiff/PNOA_MDT05_ETRS89_HU31_0359_LID.tiff',\n",
       "  3,\n",
       "  2,\n",
       "  1),\n",
       " ('localhost://cloudbutton-geospatial-wc/DTMs/geotiff/PNOA_MDT05_ETRS89_HU31_0359_LID.tiff',\n",
       "  3,\n",
       "  2,\n",
       "  2)]"
      ]
     },
     "execution_count": 29,
     "metadata": {},
     "output_type": "execute_result"
    }
   ],
   "source": [
    "iterdata = [(os.path.join(STORAGE_PREFIX, DATA_BUCKET, tile), SPLITS, i, j) for i in range(SPLITS) for j in range(SPLITS) for tile in dtm_geotiff_keys]\n",
    "iterdata"
   ]
  },
  {
   "cell_type": "code",
   "execution_count": 30,
   "metadata": {},
   "outputs": [
    {
     "name": "stderr",
     "output_type": "stream",
     "text": [
      "2022-06-02 22:47:51,335 [INFO] lithops.invokers -- ExecutorID d90394-0 | JobID M002 - Selected Runtime: aitorarjona/cloudbutton-geospatial-wc:01 \n",
      "2022-06-02 22:47:51,343 [INFO] lithops.invokers -- ExecutorID d90394-0 | JobID M002 - Starting function invocation: data_chunker() - Total: 9 activations\n",
      "2022-06-02 22:47:51,344 [INFO] lithops.invokers -- ExecutorID d90394-0 | JobID M002 - View execution logs at /tmp/lithops/logs/d90394-0-M002.log\n"
     ]
    }
   ],
   "source": [
    "chunker_fs = fexec.map(data_chunker, iterdata)"
   ]
  },
  {
   "cell_type": "code",
   "execution_count": 31,
   "metadata": {},
   "outputs": [
    {
     "name": "stderr",
     "output_type": "stream",
     "text": [
      "2022-06-02 22:47:52,538 [INFO] lithops.wait -- ExecutorID d90394-0 - Getting results from 9 function activations\n"
     ]
    },
    {
     "data": {
      "application/vnd.jupyter.widget-view+json": {
       "model_id": "af535490b2a34566b89ac356f2264fda",
       "version_major": 2,
       "version_minor": 0
      },
      "text/plain": [
       "    0%|          | 0/9  "
      ]
     },
     "metadata": {},
     "output_type": "display_data"
    },
    {
     "name": "stderr",
     "output_type": "stream",
     "text": [
      "2022-06-02 22:47:55,592 [INFO] lithops.executors -- ExecutorID d90394-0 - Cleaning temporary data\n"
     ]
    }
   ],
   "source": [
    "chunks = fexec.get_result(fs=chunker_fs)"
   ]
  },
  {
   "cell_type": "code",
   "execution_count": 32,
   "metadata": {},
   "outputs": [
    {
     "data": {
      "text/plain": [
       "[('PNOA_MDT05_ETRS89_HU31_0359_LID.tiff',\n",
       "  0,\n",
       "  0,\n",
       "  <lithops.storage.utils.CloudObject at 0x7f878bfb1dc0>),\n",
       " ('PNOA_MDT05_ETRS89_HU31_0359_LID.tiff',\n",
       "  0,\n",
       "  1,\n",
       "  <lithops.storage.utils.CloudObject at 0x7f878bfb1a60>),\n",
       " ('PNOA_MDT05_ETRS89_HU31_0359_LID.tiff',\n",
       "  0,\n",
       "  2,\n",
       "  <lithops.storage.utils.CloudObject at 0x7f878bfb1c10>),\n",
       " ('PNOA_MDT05_ETRS89_HU31_0359_LID.tiff',\n",
       "  1,\n",
       "  0,\n",
       "  <lithops.storage.utils.CloudObject at 0x7f878bfb1c40>),\n",
       " ('PNOA_MDT05_ETRS89_HU31_0359_LID.tiff',\n",
       "  1,\n",
       "  1,\n",
       "  <lithops.storage.utils.CloudObject at 0x7f878bfb1a00>),\n",
       " ('PNOA_MDT05_ETRS89_HU31_0359_LID.tiff',\n",
       "  1,\n",
       "  2,\n",
       "  <lithops.storage.utils.CloudObject at 0x7f878bfb1880>),\n",
       " ('PNOA_MDT05_ETRS89_HU31_0359_LID.tiff',\n",
       "  2,\n",
       "  0,\n",
       "  <lithops.storage.utils.CloudObject at 0x7f878bfb1940>),\n",
       " ('PNOA_MDT05_ETRS89_HU31_0359_LID.tiff',\n",
       "  2,\n",
       "  1,\n",
       "  <lithops.storage.utils.CloudObject at 0x7f878bfb1bb0>),\n",
       " ('PNOA_MDT05_ETRS89_HU31_0359_LID.tiff',\n",
       "  2,\n",
       "  2,\n",
       "  <lithops.storage.utils.CloudObject at 0x7f87909ba7c0>)]"
      ]
     },
     "execution_count": 32,
     "metadata": {},
     "output_type": "execute_result"
    }
   ],
   "source": [
    "chunks"
   ]
  },
  {
   "cell_type": "markdown",
   "metadata": {},
   "source": [
    "Compute solar irradiation given a day of year using GRASS libraries:"
   ]
  },
  {
   "cell_type": "code",
   "execution_count": 33,
   "metadata": {
    "ExecuteTime": {
     "end_time": "2021-04-13T14:38:54.462039Z",
     "start_time": "2021-04-13T14:38:54.449706Z"
    },
    "tags": []
   },
   "outputs": [],
   "source": [
    "def compute_solar_irradiation(inputFile, outputFile, crs='32630'):\n",
    "    # Define grass working set\n",
    "    GRASS_GISDB = 'grassdata'\n",
    "    GRASS_LOCATION = 'GEOPROCESSING'\n",
    "    GRASS_MAPSET = 'PERMANENT'\n",
    "    GRASS_ELEVATIONS_FILENAME = 'ELEVATIONS'\n",
    "\n",
    "    os.environ['GRASSBIN'] = 'grass76'\n",
    "    from grass_session import Session\n",
    "    import grass.script as gscript\n",
    "    from grass.pygrass.modules.shortcuts import general\n",
    "    from grass.pygrass.modules.shortcuts import raster\n",
    "\n",
    "    os.environ.update(dict(GRASS_COMPRESS_NULLS='1'))\n",
    "    \n",
    "    # Clean previously processed data\n",
    "    if os.path.isdir(GRASS_GISDB):\n",
    "        shutil.rmtree(GRASS_GISDB)\n",
    "    \n",
    "    with Session(gisdb=GRASS_GISDB, location=GRASS_LOCATION, mapset=GRASS_MAPSET, create_opts='EPSG:32630') as ses:\n",
    "        # Set project projection to match elevation raster projection\n",
    "        general.proj(epsg=crs, flags='c') \n",
    "    \n",
    "        # Load raster file into working directory\n",
    "        raster.import_(input=inputFile, output=GRASS_ELEVATIONS_FILENAME, flags='o')    \n",
    "        \n",
    "        # Set project region to match raster region\n",
    "        general.region(raster=GRASS_ELEVATIONS_FILENAME, flags='s')    \n",
    "        # Calculate solar irradiation\n",
    "        gscript.run_command('r.slope.aspect', elevation=GRASS_ELEVATIONS_FILENAME,\n",
    "                            slope='slope', aspect='aspect')\n",
    "        gscript.run_command('r.sun', elevation=GRASS_ELEVATIONS_FILENAME,\n",
    "                            slope='slope', aspect='aspect', beam_rad='beam',\n",
    "                            step=1, day=DAY_OF_YEAR)\n",
    "        \n",
    "        # Get extraterrestrial irradiation from history metadata\n",
    "        regex = re.compile(r'\\d+\\.\\d+')\n",
    "        output = gscript.read_command(\"r.info\", flags=\"h\", map=[\"beam\"])\n",
    "        splits = str(output).split('\\n')\n",
    "        line = next(filter(lambda line: 'Extraterrestrial' in line, splits))\n",
    "        extraterrestrial_irradiance = float(regex.search(line)[0])\n",
    "        \n",
    "        # Export generated results into a GeoTiff file\n",
    "        if os.path.isfile(outputFile):\n",
    "            os.remove(outputFile)\n",
    "\n",
    "        raster.out_gdal(input='beam', output=outputFile)\n",
    "        \n",
    "        return extraterrestrial_irradiance"
   ]
  },
  {
   "cell_type": "markdown",
   "metadata": {},
   "source": [
    "Get stations contained in the area of interest:"
   ]
  },
  {
   "cell_type": "code",
   "execution_count": 53,
   "metadata": {
    "ExecuteTime": {
     "end_time": "2021-04-13T14:38:55.461635Z",
     "start_time": "2021-04-13T14:38:55.457230Z"
    }
   },
   "outputs": [],
   "source": [
    "def filter_stations(bounds, meteo_data):\n",
    "    total_points = MultiPoint([Point(x,y) for x, y in meteo_data[['X', 'Y']].to_numpy()])\n",
    "    intersection = bounds.buffer(AREA_OF_INFLUENCE).intersection(total_points)\n",
    "    \n",
    "    return meteo_data[[intersection.contains(point) for point in total_points]]"
   ]
  },
  {
   "cell_type": "markdown",
   "metadata": {},
   "source": [
    "Inverse Distance Weighting interpolation:"
   ]
  },
  {
   "cell_type": "code",
   "execution_count": 54,
   "metadata": {
    "ExecuteTime": {
     "end_time": "2021-04-13T14:38:58.209269Z",
     "start_time": "2021-04-13T14:38:58.202597Z"
    }
   },
   "outputs": [],
   "source": [
    "def compute_basic_interpolation(shape, stations, field_value, offset = (0,0)):\n",
    "    station_pixels = [[pixel[0], pixel[1]] for pixel in stations['pixel'].to_numpy()]\n",
    "    \n",
    "    # Get an array where each position represents pixel coordinates\n",
    "    tile_pixels = np.indices(shape).transpose(1,2,0).reshape(shape[0]*shape[1], 2) + offset\n",
    "    dist = distance_matrix(station_pixels, tile_pixels)\n",
    "    weights = np.where(dist == 0, np.finfo('float32').max, 1.0 / dist )\n",
    "    weights /=  weights.sum(axis=0)\n",
    "    \n",
    "    return np.dot(weights.T, stations[field_value].to_numpy()).reshape(shape).astype('float32')"
   ]
  },
  {
   "cell_type": "markdown",
   "metadata": {},
   "source": [
    "Interpolate temperatures from a subset of the tile:"
   ]
  },
  {
   "cell_type": "code",
   "execution_count": 55,
   "metadata": {
    "ExecuteTime": {
     "end_time": "2021-04-13T14:38:59.031150Z",
     "start_time": "2021-04-13T14:38:59.005158Z"
    }
   },
   "outputs": [],
   "source": [
    "def radiation_interpolation(tile_key, block_x, block_y, chunk_cloudobject, storage):\n",
    "    tile_id, _ = os.path.splitext(tile_key)\n",
    "    \n",
    "    # Write tile chunk to file\n",
    "    chunk_file = os.path.join(tempfile.gettempdir(), tile_id + str(block_x) + '_' + str(block_y) + '.tif')\n",
    "    with open(chunk_file, 'wb') as f:\n",
    "        body = storage.get_cloudobject(chunk_cloudobject)\n",
    "        f.write(body)\n",
    "    \n",
    "    with rasterio.open(chunk_file, 'r') as chunk_src:\n",
    "        profile = chunk_src.profile\n",
    "        \n",
    "    extr_chunk_file = os.path.join(tempfile.gettempdir(), tile_id + '_extr_' + str(block_x) + '_' + str(block_y) + '.tif')\n",
    "    rad_chunk_file = os.path.join(tempfile.gettempdir(), tile_id + '_rad_' + str(block_x) + '_' + str(block_y) + '.tif')\n",
    "    \n",
    "    # Compute solar irradiation from inputFile, creates radiation raster at outputFile\n",
    "    extraterrestrial_irradiation = compute_solar_irradiation(inputFile=chunk_file, outputFile=rad_chunk_file)\n",
    "        \n",
    "    # Create and store a raster with extraterrestrial irradiation\n",
    "    with rasterio.open(extr_chunk_file, 'w', **profile) as dest:\n",
    "        data = np.full((profile['height'], profile['width']), extraterrestrial_irradiation, dtype='float32')\n",
    "        dest.write(data, 1)\n",
    "    \n",
    "    with open(extr_chunk_file, 'rb') as f:\n",
    "        extr_co = storage.put_cloudobject(body=f, bucket=DATA_BUCKET)\n",
    "    \n",
    "    with open(rad_chunk_file, 'rb') as f:\n",
    "        rad_co = storage.put_cloudobject(body=f, bucket=DATA_BUCKET)\n",
    "    \n",
    "    return [(tile_key, 'extr', block_x, block_y, extr_co), (tile_key, 'rad', block_x, block_y, rad_co)]"
   ]
  },
  {
   "cell_type": "code",
   "execution_count": 80,
   "metadata": {
    "ExecuteTime": {
     "end_time": "2021-04-13T14:39:01.538202Z",
     "start_time": "2021-04-13T14:39:01.521080Z"
    }
   },
   "outputs": [],
   "source": [
    "def map_interpolation(tile_key, block_x, block_y, chunk_cloudobject, data_field, storage):\n",
    "    tile_id, _ = os.path.splitext(tile_key)\n",
    "    \n",
    "    # Get meteo data CSV\n",
    "    meteo_data_stream = storage.get_object(DATA_BUCKET, meteo_key, stream=True)\n",
    "    meteo_data = pd.read_csv(meteo_data_stream)\n",
    "    \n",
    "    # Write tile chunk to file\n",
    "    chunk_file = os.path.join(tempfile.gettempdir(), tile_id + str(block_x) + '_' + str(block_y) + '.tif')\n",
    "    with open(chunk_file, 'wb') as f:\n",
    "        body = storage.get_cloudobject(chunk_cloudobject)\n",
    "        f.write(body)\n",
    "    \n",
    "    with rasterio.open(chunk_file, 'r') as chunk_src:\n",
    "        profile = chunk_src.profile\n",
    "        transform = chunk_src.transform\n",
    "        \n",
    "        # bounding_rect = box(chunk_src.bounds.left, chunk_src.bounds.top, chunk_src.bounds.right, chunk_src.bounds.bottom)\n",
    "        # filtered = pd.DataFrame(filter_stations(bounding_rect, meteo_data))\n",
    "        filtered = meteo_data\n",
    "        filtered = meteo_data.apply(lambda station: rasterio.transform.rowcol(transform, station['X'], station['Y']), axis=1)\n",
    "        \n",
    "        # Interpolate variables from meteo station data, generate raster with result\n",
    "        if data_field == 'temp':\n",
    "            dest_chunk_file = os.path.join(tempfile.gettempdir(), tile_id + '_temp_' + str(block_x) + '_' + str(block_y) + '.tif')\n",
    "            with rasterio.open(dest_chunk_file, 'w', **profile) as chunk_dest:\n",
    "                elevations = chunk_src.read(1)  # Get elevations content\n",
    "                interpolation = compute_basic_interpolation(elevations.shape, meteo_data, 'tdet', (offset_h, offset_w))\n",
    "                interpolation += r * (elevations - zdet)\n",
    "                chunk_dest.write(np.where(elevations == src.nodata, np.nan, interpolation), 1)\n",
    "        elif data_field == 'humi':\n",
    "            dest_chunk_file = os.path.join(tempfile.gettempdir(), tile_id + '_humi_' + str(block_x) + '_' + str(block_y) + '.tif')\n",
    "            interpolation = compute_basic_interpolation((height, width), meteo_data, 'hr', (offset_h, offset_w))\n",
    "            chunk_dest.write(interpolation, 1)\n",
    "        elif data_field == 'wind':\n",
    "            dest_chunk_file = os.path.join(tempfile.gettempdir(), tile_id + '_wind_' + str(block_x) + '_' + str(block_y) + '.tif')\n",
    "            interpolation = compute_basic_interpolation((height, width), meteo_data, 'v', (offset_h, offset_w))\n",
    "            chunk_dest.write(interpolation, 1)\n",
    "        else:\n",
    "            raise Exception(f'Unknown data field \"{data_field}\"')\n",
    "\n",
    "    # Upload results to storage as Cloudobject\n",
    "    with open(dest_chunk_file, 'rb') as f:\n",
    "        co = storage.put_cloudobject(body=f, bucket=DATA_BUCKET)\n",
    "    \n",
    "    return [(tile_key, data_field, block_x, block_y, co)]"
   ]
  },
  {
   "cell_type": "markdown",
   "metadata": {},
   "source": [
    "Lithops serverless computation:"
   ]
  },
  {
   "cell_type": "code",
   "execution_count": 81,
   "metadata": {
    "ExecuteTime": {
     "end_time": "2021-04-08T06:56:29.270356Z",
     "start_time": "2021-04-08T06:56:27.066344Z"
    }
   },
   "outputs": [
    {
     "name": "stderr",
     "output_type": "stream",
     "text": [
      "2022-06-02 23:17:21,093 [INFO] lithops.invokers -- ExecutorID d90394-0 | JobID M013 - Selected Runtime: aitorarjona/cloudbutton-geospatial-wc:01 \n",
      "2022-06-02 23:17:21,106 [INFO] lithops.invokers -- ExecutorID d90394-0 | JobID M013 - Starting function invocation: map_interpolation() - Total: 9 activations\n",
      "2022-06-02 23:17:21,107 [INFO] lithops.invokers -- ExecutorID d90394-0 | JobID M013 - View execution logs at /tmp/lithops/logs/d90394-0-M013.log\n"
     ]
    }
   ],
   "source": [
    "# fs1 = fexec.map(radiation_interpolation, chunks)\n",
    "fs2 = fexec.map(map_interpolation, chunks, extra_args=('temp',))\n",
    "# fs3 = fexec.map(map_interpolation, iterdata, extra_args=(SPLITS, 'humi'))\n",
    "# fs4 = fexec.map(map_interpolation, iterdata, extra_args=(SPLITS, 'wind'))"
   ]
  },
  {
   "cell_type": "code",
   "execution_count": 82,
   "metadata": {},
   "outputs": [
    {
     "name": "stderr",
     "output_type": "stream",
     "text": [
      "2022-06-02 23:17:21,263 [INFO] lithops.wait -- ExecutorID d90394-0 - Getting results from 9 function activations\n"
     ]
    },
    {
     "data": {
      "application/vnd.jupyter.widget-view+json": {
       "model_id": "c328cbdeb4cb48ac8020f3e30bddd5b5",
       "version_major": 2,
       "version_minor": 0
      },
      "text/plain": [
       "    0%|          | 0/9  "
      ]
     },
     "metadata": {},
     "output_type": "display_data"
    },
    {
     "name": "stderr",
     "output_type": "stream",
     "text": [
      "2022-06-02 23:17:23,331 [INFO] lithops.executors -- ExecutorID d90394-0 - Cleaning temporary data\n"
     ]
    },
    {
     "ename": "NameError",
     "evalue": "name 'offset_h' is not defined",
     "output_type": "error",
     "traceback": [
      "\u001b[0;31m---------------------------------------------------------------------------\u001b[0m",
      "\u001b[0;31mNameError\u001b[0m                                 Traceback (most recent call last)",
      "Input \u001b[0;32mIn [82]\u001b[0m, in \u001b[0;36m<cell line: 1>\u001b[0;34m()\u001b[0m\n\u001b[0;32m----> 1\u001b[0m res2 \u001b[38;5;241m=\u001b[39m \u001b[43mfexec\u001b[49m\u001b[38;5;241;43m.\u001b[39;49m\u001b[43mget_result\u001b[49m\u001b[43m(\u001b[49m\u001b[43mfs\u001b[49m\u001b[38;5;241;43m=\u001b[39;49m\u001b[43mfs2\u001b[49m\u001b[43m)\u001b[49m\n",
      "File \u001b[0;32m~/anaconda3/envs/geospatial/lib/python3.9/site-packages/lithops/executors.py:466\u001b[0m, in \u001b[0;36mFunctionExecutor.get_result\u001b[0;34m(self, fs, throw_except, timeout, threadpool_size, wait_dur_sec)\u001b[0m\n\u001b[1;32m    450\u001b[0m \u001b[38;5;28;01mdef\u001b[39;00m \u001b[38;5;21mget_result\u001b[39m(\u001b[38;5;28mself\u001b[39m,\n\u001b[1;32m    451\u001b[0m                fs: Optional[Union[ResponseFuture, FuturesList, List[ResponseFuture]]] \u001b[38;5;241m=\u001b[39m \u001b[38;5;28;01mNone\u001b[39;00m,\n\u001b[1;32m    452\u001b[0m                throw_except: Optional[\u001b[38;5;28mbool\u001b[39m] \u001b[38;5;241m=\u001b[39m \u001b[38;5;28;01mTrue\u001b[39;00m,\n\u001b[1;32m    453\u001b[0m                timeout: Optional[\u001b[38;5;28mint\u001b[39m] \u001b[38;5;241m=\u001b[39m \u001b[38;5;28;01mNone\u001b[39;00m,\n\u001b[1;32m    454\u001b[0m                threadpool_size: Optional[\u001b[38;5;28mint\u001b[39m] \u001b[38;5;241m=\u001b[39m THREADPOOL_SIZE,\n\u001b[1;32m    455\u001b[0m                wait_dur_sec: Optional[\u001b[38;5;28mint\u001b[39m] \u001b[38;5;241m=\u001b[39m WAIT_DUR_SEC):\n\u001b[1;32m    456\u001b[0m     \u001b[38;5;124;03m\"\"\"\u001b[39;00m\n\u001b[1;32m    457\u001b[0m \u001b[38;5;124;03m    For getting the results from all function activations\u001b[39;00m\n\u001b[1;32m    458\u001b[0m \n\u001b[0;32m   (...)\u001b[0m\n\u001b[1;32m    464\u001b[0m \u001b[38;5;124;03m    :return: The result of the future/s\u001b[39;00m\n\u001b[1;32m    465\u001b[0m \u001b[38;5;124;03m    \"\"\"\u001b[39;00m\n\u001b[0;32m--> 466\u001b[0m     fs_done, _ \u001b[38;5;241m=\u001b[39m \u001b[38;5;28;43mself\u001b[39;49m\u001b[38;5;241;43m.\u001b[39;49m\u001b[43mwait\u001b[49m\u001b[43m(\u001b[49m\u001b[43mfs\u001b[49m\u001b[38;5;241;43m=\u001b[39;49m\u001b[43mfs\u001b[49m\u001b[43m,\u001b[49m\u001b[43m \u001b[49m\u001b[43mthrow_except\u001b[49m\u001b[38;5;241;43m=\u001b[39;49m\u001b[43mthrow_except\u001b[49m\u001b[43m,\u001b[49m\n\u001b[1;32m    467\u001b[0m \u001b[43m                           \u001b[49m\u001b[43mtimeout\u001b[49m\u001b[38;5;241;43m=\u001b[39;49m\u001b[43mtimeout\u001b[49m\u001b[43m,\u001b[49m\u001b[43m \u001b[49m\u001b[43mdownload_results\u001b[49m\u001b[38;5;241;43m=\u001b[39;49m\u001b[38;5;28;43;01mTrue\u001b[39;49;00m\u001b[43m,\u001b[49m\n\u001b[1;32m    468\u001b[0m \u001b[43m                           \u001b[49m\u001b[43mthreadpool_size\u001b[49m\u001b[38;5;241;43m=\u001b[39;49m\u001b[43mthreadpool_size\u001b[49m\u001b[43m,\u001b[49m\n\u001b[1;32m    469\u001b[0m \u001b[43m                           \u001b[49m\u001b[43mwait_dur_sec\u001b[49m\u001b[38;5;241;43m=\u001b[39;49m\u001b[43mwait_dur_sec\u001b[49m\u001b[43m)\u001b[49m\n\u001b[1;32m    470\u001b[0m     result \u001b[38;5;241m=\u001b[39m []\n\u001b[1;32m    471\u001b[0m     fs_done \u001b[38;5;241m=\u001b[39m [f \u001b[38;5;28;01mfor\u001b[39;00m f \u001b[38;5;129;01min\u001b[39;00m fs_done \u001b[38;5;28;01mif\u001b[39;00m \u001b[38;5;129;01mnot\u001b[39;00m f\u001b[38;5;241m.\u001b[39mfutures \u001b[38;5;129;01mand\u001b[39;00m f\u001b[38;5;241m.\u001b[39m_produce_output]\n",
      "File \u001b[0;32m~/anaconda3/envs/geospatial/lib/python3.9/site-packages/lithops/executors.py:439\u001b[0m, in \u001b[0;36mFunctionExecutor.wait\u001b[0;34m(self, fs, throw_except, return_when, download_results, timeout, threadpool_size, wait_dur_sec)\u001b[0m\n\u001b[1;32m    437\u001b[0m         \u001b[38;5;28mself\u001b[39m\u001b[38;5;241m.\u001b[39mcompute_handler\u001b[38;5;241m.\u001b[39mclear(present_jobs)\n\u001b[1;32m    438\u001b[0m         \u001b[38;5;28mself\u001b[39m\u001b[38;5;241m.\u001b[39mclean(clean_cloudobjects\u001b[38;5;241m=\u001b[39m\u001b[38;5;28;01mFalse\u001b[39;00m, force\u001b[38;5;241m=\u001b[39m\u001b[38;5;28;01mTrue\u001b[39;00m)\n\u001b[0;32m--> 439\u001b[0m     \u001b[38;5;28;01mraise\u001b[39;00m e\n\u001b[1;32m    441\u001b[0m \u001b[38;5;28;01mif\u001b[39;00m download_results:\n\u001b[1;32m    442\u001b[0m     fs_done \u001b[38;5;241m=\u001b[39m [f \u001b[38;5;28;01mfor\u001b[39;00m f \u001b[38;5;129;01min\u001b[39;00m futures \u001b[38;5;28;01mif\u001b[39;00m f\u001b[38;5;241m.\u001b[39mdone]\n",
      "File \u001b[0;32m~/anaconda3/envs/geospatial/lib/python3.9/site-packages/lithops/executors.py:415\u001b[0m, in \u001b[0;36mFunctionExecutor.wait\u001b[0;34m(self, fs, throw_except, return_when, download_results, timeout, threadpool_size, wait_dur_sec)\u001b[0m\n\u001b[1;32m    413\u001b[0m \u001b[38;5;66;03m# Start waiting for results\u001b[39;00m\n\u001b[1;32m    414\u001b[0m \u001b[38;5;28;01mtry\u001b[39;00m:\n\u001b[0;32m--> 415\u001b[0m     \u001b[43mwait\u001b[49m\u001b[43m(\u001b[49m\u001b[43mfs\u001b[49m\u001b[38;5;241;43m=\u001b[39;49m\u001b[43mfutures\u001b[49m\u001b[43m,\u001b[49m\n\u001b[1;32m    416\u001b[0m \u001b[43m         \u001b[49m\u001b[43minternal_storage\u001b[49m\u001b[38;5;241;43m=\u001b[39;49m\u001b[38;5;28;43mself\u001b[39;49m\u001b[38;5;241;43m.\u001b[39;49m\u001b[43minternal_storage\u001b[49m\u001b[43m,\u001b[49m\n\u001b[1;32m    417\u001b[0m \u001b[43m         \u001b[49m\u001b[43mjob_monitor\u001b[49m\u001b[38;5;241;43m=\u001b[39;49m\u001b[38;5;28;43mself\u001b[39;49m\u001b[38;5;241;43m.\u001b[39;49m\u001b[43mjob_monitor\u001b[49m\u001b[43m,\u001b[49m\n\u001b[1;32m    418\u001b[0m \u001b[43m         \u001b[49m\u001b[43mdownload_results\u001b[49m\u001b[38;5;241;43m=\u001b[39;49m\u001b[43mdownload_results\u001b[49m\u001b[43m,\u001b[49m\n\u001b[1;32m    419\u001b[0m \u001b[43m         \u001b[49m\u001b[43mthrow_except\u001b[49m\u001b[38;5;241;43m=\u001b[39;49m\u001b[43mthrow_except\u001b[49m\u001b[43m,\u001b[49m\n\u001b[1;32m    420\u001b[0m \u001b[43m         \u001b[49m\u001b[43mreturn_when\u001b[49m\u001b[38;5;241;43m=\u001b[39;49m\u001b[43mreturn_when\u001b[49m\u001b[43m,\u001b[49m\n\u001b[1;32m    421\u001b[0m \u001b[43m         \u001b[49m\u001b[43mtimeout\u001b[49m\u001b[38;5;241;43m=\u001b[39;49m\u001b[43mtimeout\u001b[49m\u001b[43m,\u001b[49m\n\u001b[1;32m    422\u001b[0m \u001b[43m         \u001b[49m\u001b[43mthreadpool_size\u001b[49m\u001b[38;5;241;43m=\u001b[39;49m\u001b[43mthreadpool_size\u001b[49m\u001b[43m,\u001b[49m\n\u001b[1;32m    423\u001b[0m \u001b[43m         \u001b[49m\u001b[43mwait_dur_sec\u001b[49m\u001b[38;5;241;43m=\u001b[39;49m\u001b[43mwait_dur_sec\u001b[49m\u001b[43m)\u001b[49m\n\u001b[1;32m    425\u001b[0m     \u001b[38;5;28;01mif\u001b[39;00m \u001b[38;5;28mself\u001b[39m\u001b[38;5;241m.\u001b[39mdata_cleaner \u001b[38;5;129;01mand\u001b[39;00m return_when \u001b[38;5;241m==\u001b[39m ALL_COMPLETED:\n\u001b[1;32m    426\u001b[0m         present_jobs \u001b[38;5;241m=\u001b[39m {f\u001b[38;5;241m.\u001b[39mjob_key \u001b[38;5;28;01mfor\u001b[39;00m f \u001b[38;5;129;01min\u001b[39;00m futures}\n",
      "File \u001b[0;32m~/anaconda3/envs/geospatial/lib/python3.9/site-packages/lithops/wait.py:156\u001b[0m, in \u001b[0;36mwait\u001b[0;34m(fs, internal_storage, job_monitor, throw_except, return_when, download_results, timeout, threadpool_size, wait_dur_sec)\u001b[0m\n\u001b[1;32m    153\u001b[0m     \u001b[38;5;28;01mraise\u001b[39;00m e\n\u001b[1;32m    155\u001b[0m \u001b[38;5;28;01mexcept\u001b[39;00m \u001b[38;5;167;01mException\u001b[39;00m \u001b[38;5;28;01mas\u001b[39;00m e:\n\u001b[0;32m--> 156\u001b[0m     \u001b[38;5;28;01mraise\u001b[39;00m e\n\u001b[1;32m    158\u001b[0m \u001b[38;5;28;01mfinally\u001b[39;00m:\n\u001b[1;32m    159\u001b[0m     \u001b[38;5;28;01mif\u001b[39;00m is_unix_system():\n",
      "File \u001b[0;32m~/anaconda3/envs/geospatial/lib/python3.9/site-packages/lithops/wait.py:137\u001b[0m, in \u001b[0;36mwait\u001b[0;34m(fs, internal_storage, job_monitor, throw_except, return_when, download_results, timeout, threadpool_size, wait_dur_sec)\u001b[0m\n\u001b[1;32m    135\u001b[0m         \u001b[38;5;28;01mwhile\u001b[39;00m \u001b[38;5;129;01mnot\u001b[39;00m _check_done(fs, return_when, download_results):\n\u001b[1;32m    136\u001b[0m             \u001b[38;5;28;01mfor\u001b[39;00m executor_data \u001b[38;5;129;01min\u001b[39;00m executors_data:\n\u001b[0;32m--> 137\u001b[0m                 new_data \u001b[38;5;241m=\u001b[39m \u001b[43m_get_executor_data\u001b[49m\u001b[43m(\u001b[49m\u001b[43mfs\u001b[49m\u001b[43m,\u001b[49m\u001b[43m \u001b[49m\u001b[43mexecutor_data\u001b[49m\u001b[43m,\u001b[49m\u001b[43m \u001b[49m\u001b[43mpbar\u001b[49m\u001b[38;5;241;43m=\u001b[39;49m\u001b[43mpbar\u001b[49m\u001b[43m,\u001b[49m\n\u001b[1;32m    138\u001b[0m \u001b[43m                                              \u001b[49m\u001b[43mthrow_except\u001b[49m\u001b[38;5;241;43m=\u001b[39;49m\u001b[43mthrow_except\u001b[49m\u001b[43m,\u001b[49m\n\u001b[1;32m    139\u001b[0m \u001b[43m                                              \u001b[49m\u001b[43mdownload_results\u001b[49m\u001b[38;5;241;43m=\u001b[39;49m\u001b[43mdownload_results\u001b[49m\u001b[43m,\u001b[49m\n\u001b[1;32m    140\u001b[0m \u001b[43m                                              \u001b[49m\u001b[43mthreadpool_size\u001b[49m\u001b[38;5;241;43m=\u001b[39;49m\u001b[43mthreadpool_size\u001b[49m\u001b[43m)\u001b[49m\n\u001b[1;32m    141\u001b[0m             time\u001b[38;5;241m.\u001b[39msleep(\u001b[38;5;241m0\u001b[39m \u001b[38;5;28;01mif\u001b[39;00m new_data \u001b[38;5;28;01melse\u001b[39;00m sleep_sec)\n\u001b[1;32m    143\u001b[0m \u001b[38;5;28;01mexcept\u001b[39;00m \u001b[38;5;167;01mKeyboardInterrupt\u001b[39;00m \u001b[38;5;28;01mas\u001b[39;00m e:\n",
      "File \u001b[0;32m~/anaconda3/envs/geospatial/lib/python3.9/site-packages/lithops/wait.py:277\u001b[0m, in \u001b[0;36m_get_executor_data\u001b[0;34m(fs, exec_data, download_results, throw_except, threadpool_size, pbar)\u001b[0m\n\u001b[1;32m    275\u001b[0m pool \u001b[38;5;241m=\u001b[39m cf\u001b[38;5;241m.\u001b[39mThreadPoolExecutor(max_workers\u001b[38;5;241m=\u001b[39mthreadpool_size)\n\u001b[1;32m    276\u001b[0m \u001b[38;5;28;01mif\u001b[39;00m download_results:\n\u001b[0;32m--> 277\u001b[0m     \u001b[38;5;28;43mlist\u001b[39;49m\u001b[43m(\u001b[49m\u001b[43mpool\u001b[49m\u001b[38;5;241;43m.\u001b[39;49m\u001b[43mmap\u001b[49m\u001b[43m(\u001b[49m\u001b[43mget_result\u001b[49m\u001b[43m,\u001b[49m\u001b[43m \u001b[49m\u001b[43mfs_to_wait_on\u001b[49m\u001b[43m)\u001b[49m\u001b[43m)\u001b[49m\n\u001b[1;32m    278\u001b[0m \u001b[38;5;28;01melse\u001b[39;00m:\n\u001b[1;32m    279\u001b[0m     \u001b[38;5;28mlist\u001b[39m(pool\u001b[38;5;241m.\u001b[39mmap(get_status, fs_to_wait_on))\n",
      "File \u001b[0;32m~/anaconda3/envs/geospatial/lib/python3.9/concurrent/futures/_base.py:609\u001b[0m, in \u001b[0;36mExecutor.map.<locals>.result_iterator\u001b[0;34m()\u001b[0m\n\u001b[1;32m    606\u001b[0m \u001b[38;5;28;01mwhile\u001b[39;00m fs:\n\u001b[1;32m    607\u001b[0m     \u001b[38;5;66;03m# Careful not to keep a reference to the popped future\u001b[39;00m\n\u001b[1;32m    608\u001b[0m     \u001b[38;5;28;01mif\u001b[39;00m timeout \u001b[38;5;129;01mis\u001b[39;00m \u001b[38;5;28;01mNone\u001b[39;00m:\n\u001b[0;32m--> 609\u001b[0m         \u001b[38;5;28;01myield\u001b[39;00m \u001b[43mfs\u001b[49m\u001b[38;5;241;43m.\u001b[39;49m\u001b[43mpop\u001b[49m\u001b[43m(\u001b[49m\u001b[43m)\u001b[49m\u001b[38;5;241;43m.\u001b[39;49m\u001b[43mresult\u001b[49m\u001b[43m(\u001b[49m\u001b[43m)\u001b[49m\n\u001b[1;32m    610\u001b[0m     \u001b[38;5;28;01melse\u001b[39;00m:\n\u001b[1;32m    611\u001b[0m         \u001b[38;5;28;01myield\u001b[39;00m fs\u001b[38;5;241m.\u001b[39mpop()\u001b[38;5;241m.\u001b[39mresult(end_time \u001b[38;5;241m-\u001b[39m time\u001b[38;5;241m.\u001b[39mmonotonic())\n",
      "File \u001b[0;32m~/anaconda3/envs/geospatial/lib/python3.9/concurrent/futures/_base.py:439\u001b[0m, in \u001b[0;36mFuture.result\u001b[0;34m(self, timeout)\u001b[0m\n\u001b[1;32m    437\u001b[0m     \u001b[38;5;28;01mraise\u001b[39;00m CancelledError()\n\u001b[1;32m    438\u001b[0m \u001b[38;5;28;01melif\u001b[39;00m \u001b[38;5;28mself\u001b[39m\u001b[38;5;241m.\u001b[39m_state \u001b[38;5;241m==\u001b[39m FINISHED:\n\u001b[0;32m--> 439\u001b[0m     \u001b[38;5;28;01mreturn\u001b[39;00m \u001b[38;5;28;43mself\u001b[39;49m\u001b[38;5;241;43m.\u001b[39;49m\u001b[43m__get_result\u001b[49m\u001b[43m(\u001b[49m\u001b[43m)\u001b[49m\n\u001b[1;32m    441\u001b[0m \u001b[38;5;28mself\u001b[39m\u001b[38;5;241m.\u001b[39m_condition\u001b[38;5;241m.\u001b[39mwait(timeout)\n\u001b[1;32m    443\u001b[0m \u001b[38;5;28;01mif\u001b[39;00m \u001b[38;5;28mself\u001b[39m\u001b[38;5;241m.\u001b[39m_state \u001b[38;5;129;01min\u001b[39;00m [CANCELLED, CANCELLED_AND_NOTIFIED]:\n",
      "File \u001b[0;32m~/anaconda3/envs/geospatial/lib/python3.9/concurrent/futures/_base.py:391\u001b[0m, in \u001b[0;36mFuture.__get_result\u001b[0;34m(self)\u001b[0m\n\u001b[1;32m    389\u001b[0m \u001b[38;5;28;01mif\u001b[39;00m \u001b[38;5;28mself\u001b[39m\u001b[38;5;241m.\u001b[39m_exception:\n\u001b[1;32m    390\u001b[0m     \u001b[38;5;28;01mtry\u001b[39;00m:\n\u001b[0;32m--> 391\u001b[0m         \u001b[38;5;28;01mraise\u001b[39;00m \u001b[38;5;28mself\u001b[39m\u001b[38;5;241m.\u001b[39m_exception\n\u001b[1;32m    392\u001b[0m     \u001b[38;5;28;01mfinally\u001b[39;00m:\n\u001b[1;32m    393\u001b[0m         \u001b[38;5;66;03m# Break a reference cycle with the exception in self._exception\u001b[39;00m\n\u001b[1;32m    394\u001b[0m         \u001b[38;5;28mself\u001b[39m \u001b[38;5;241m=\u001b[39m \u001b[38;5;28;01mNone\u001b[39;00m\n",
      "File \u001b[0;32m~/anaconda3/envs/geospatial/lib/python3.9/concurrent/futures/thread.py:58\u001b[0m, in \u001b[0;36m_WorkItem.run\u001b[0;34m(self)\u001b[0m\n\u001b[1;32m     55\u001b[0m     \u001b[38;5;28;01mreturn\u001b[39;00m\n\u001b[1;32m     57\u001b[0m \u001b[38;5;28;01mtry\u001b[39;00m:\n\u001b[0;32m---> 58\u001b[0m     result \u001b[38;5;241m=\u001b[39m \u001b[38;5;28;43mself\u001b[39;49m\u001b[38;5;241;43m.\u001b[39;49m\u001b[43mfn\u001b[49m\u001b[43m(\u001b[49m\u001b[38;5;241;43m*\u001b[39;49m\u001b[38;5;28;43mself\u001b[39;49m\u001b[38;5;241;43m.\u001b[39;49m\u001b[43margs\u001b[49m\u001b[43m,\u001b[49m\u001b[43m \u001b[49m\u001b[38;5;241;43m*\u001b[39;49m\u001b[38;5;241;43m*\u001b[39;49m\u001b[38;5;28;43mself\u001b[39;49m\u001b[38;5;241;43m.\u001b[39;49m\u001b[43mkwargs\u001b[49m\u001b[43m)\u001b[49m\n\u001b[1;32m     59\u001b[0m \u001b[38;5;28;01mexcept\u001b[39;00m \u001b[38;5;167;01mBaseException\u001b[39;00m \u001b[38;5;28;01mas\u001b[39;00m exc:\n\u001b[1;32m     60\u001b[0m     \u001b[38;5;28mself\u001b[39m\u001b[38;5;241m.\u001b[39mfuture\u001b[38;5;241m.\u001b[39mset_exception(exc)\n",
      "File \u001b[0;32m~/anaconda3/envs/geospatial/lib/python3.9/site-packages/lithops/wait.py:270\u001b[0m, in \u001b[0;36m_get_executor_data.<locals>.get_result\u001b[0;34m(f)\u001b[0m\n\u001b[1;32m    269\u001b[0m \u001b[38;5;28;01mdef\u001b[39;00m \u001b[38;5;21mget_result\u001b[39m(f):\n\u001b[0;32m--> 270\u001b[0m     \u001b[43mf\u001b[49m\u001b[38;5;241;43m.\u001b[39;49m\u001b[43mresult\u001b[49m\u001b[43m(\u001b[49m\u001b[43mthrow_except\u001b[49m\u001b[38;5;241;43m=\u001b[39;49m\u001b[43mthrow_except\u001b[49m\u001b[43m,\u001b[49m\u001b[43m \u001b[49m\u001b[43minternal_storage\u001b[49m\u001b[38;5;241;43m=\u001b[39;49m\u001b[43mexec_data\u001b[49m\u001b[38;5;241;43m.\u001b[39;49m\u001b[43minternal_storage\u001b[49m\u001b[43m)\u001b[49m\n",
      "File \u001b[0;32m~/anaconda3/envs/geospatial/lib/python3.9/site-packages/lithops/future.py:321\u001b[0m, in \u001b[0;36mResponseFuture.result\u001b[0;34m(self, throw_except, internal_storage)\u001b[0m\n\u001b[1;32m    318\u001b[0m \u001b[38;5;28;01mif\u001b[39;00m internal_storage \u001b[38;5;129;01mis\u001b[39;00m \u001b[38;5;28;01mNone\u001b[39;00m:\n\u001b[1;32m    319\u001b[0m     internal_storage \u001b[38;5;241m=\u001b[39m InternalStorage(storage_config\u001b[38;5;241m=\u001b[39m\u001b[38;5;28mself\u001b[39m\u001b[38;5;241m.\u001b[39m_storage_config)\n\u001b[0;32m--> 321\u001b[0m \u001b[38;5;28;43mself\u001b[39;49m\u001b[38;5;241;43m.\u001b[39;49m\u001b[43mstatus\u001b[49m\u001b[43m(\u001b[49m\u001b[43mthrow_except\u001b[49m\u001b[38;5;241;43m=\u001b[39;49m\u001b[43mthrow_except\u001b[49m\u001b[43m,\u001b[49m\u001b[43m \u001b[49m\u001b[43minternal_storage\u001b[49m\u001b[38;5;241;43m=\u001b[39;49m\u001b[43minternal_storage\u001b[49m\u001b[43m)\u001b[49m\n\u001b[1;32m    323\u001b[0m \u001b[38;5;28;01mif\u001b[39;00m \u001b[38;5;28mself\u001b[39m\u001b[38;5;241m.\u001b[39mdone:\n\u001b[1;32m    324\u001b[0m     \u001b[38;5;28;01mreturn\u001b[39;00m \u001b[38;5;28mself\u001b[39m\u001b[38;5;241m.\u001b[39m_return_val\n",
      "File \u001b[0;32m~/anaconda3/envs/geospatial/lib/python3.9/site-packages/lithops/future.py:256\u001b[0m, in \u001b[0;36mResponseFuture.status\u001b[0;34m(self, throw_except, internal_storage, check_only)\u001b[0m\n\u001b[1;32m    254\u001b[0m \u001b[38;5;28;01mif\u001b[39;00m throw_except:\n\u001b[1;32m    255\u001b[0m     sys\u001b[38;5;241m.\u001b[39mexcepthook \u001b[38;5;241m=\u001b[39m exception_hook\n\u001b[0;32m--> 256\u001b[0m     \u001b[43mreraise\u001b[49m\u001b[43m(\u001b[49m\u001b[38;5;241;43m*\u001b[39;49m\u001b[38;5;28;43mself\u001b[39;49m\u001b[38;5;241;43m.\u001b[39;49m\u001b[43m_exception\u001b[49m\u001b[43m)\u001b[49m\n\u001b[1;32m    257\u001b[0m \u001b[38;5;28;01melse\u001b[39;00m:\n\u001b[1;32m    258\u001b[0m     logger\u001b[38;5;241m.\u001b[39mwarning(msg1)\n",
      "File \u001b[0;32m~/anaconda3/envs/geospatial/lib/python3.9/site-packages/six.py:719\u001b[0m, in \u001b[0;36mreraise\u001b[0;34m(tp, value, tb)\u001b[0m\n\u001b[1;32m    717\u001b[0m     \u001b[38;5;28;01mif\u001b[39;00m value\u001b[38;5;241m.\u001b[39m__traceback__ \u001b[38;5;129;01mis\u001b[39;00m \u001b[38;5;129;01mnot\u001b[39;00m tb:\n\u001b[1;32m    718\u001b[0m         \u001b[38;5;28;01mraise\u001b[39;00m value\u001b[38;5;241m.\u001b[39mwith_traceback(tb)\n\u001b[0;32m--> 719\u001b[0m     \u001b[38;5;28;01mraise\u001b[39;00m value\n\u001b[1;32m    720\u001b[0m \u001b[38;5;28;01mfinally\u001b[39;00m:\n\u001b[1;32m    721\u001b[0m     value \u001b[38;5;241m=\u001b[39m \u001b[38;5;28;01mNone\u001b[39;00m\n",
      "File \u001b[0;32m/tmp/lithops/lithops/worker/jobrunner.py:228\u001b[0m, in \u001b[0;36mrun\u001b[0;34m()\u001b[0m\n\u001b[1;32m    226\u001b[0m \u001b[38;5;28mprint\u001b[39m(\u001b[38;5;124m'\u001b[39m\u001b[38;5;124m---------------------- FUNCTION LOG ----------------------\u001b[39m\u001b[38;5;124m'\u001b[39m)\n\u001b[1;32m    227\u001b[0m function_start_tstamp \u001b[38;5;241m=\u001b[39m time\u001b[38;5;241m.\u001b[39mtime()\n\u001b[0;32m--> 228\u001b[0m result \u001b[38;5;241m=\u001b[39m func(\u001b[38;5;241m*\u001b[39m\u001b[38;5;241m*\u001b[39mdata)\n\u001b[1;32m    229\u001b[0m function_end_tstamp \u001b[38;5;241m=\u001b[39m time\u001b[38;5;241m.\u001b[39mtime()\n\u001b[1;32m    230\u001b[0m \u001b[38;5;28mprint\u001b[39m(\u001b[38;5;124m'\u001b[39m\u001b[38;5;124m----------------------------------------------------------\u001b[39m\u001b[38;5;124m'\u001b[39m)\n",
      "Input \u001b[0;32mIn [80]\u001b[0m, in \u001b[0;36mmap_interpolation\u001b[0;34m()\u001b[0m\n\u001b[1;32m     26\u001b[0m \u001b[38;5;28;01mwith\u001b[39;00m rasterio\u001b[38;5;241m.\u001b[39mopen(dest_chunk_file, \u001b[38;5;124m'\u001b[39m\u001b[38;5;124mw\u001b[39m\u001b[38;5;124m'\u001b[39m, \u001b[38;5;241m*\u001b[39m\u001b[38;5;241m*\u001b[39mprofile) \u001b[38;5;28;01mas\u001b[39;00m chunk_dest:\n\u001b[1;32m     27\u001b[0m     elevations \u001b[38;5;241m=\u001b[39m chunk_src\u001b[38;5;241m.\u001b[39mread(\u001b[38;5;241m1\u001b[39m)  \u001b[38;5;66;03m# Get elevations content\u001b[39;00m\n\u001b[0;32m---> 28\u001b[0m     interpolation \u001b[38;5;241m=\u001b[39m compute_basic_interpolation(elevations\u001b[38;5;241m.\u001b[39mshape, meteo_data, \u001b[38;5;124m'\u001b[39m\u001b[38;5;124mtdet\u001b[39m\u001b[38;5;124m'\u001b[39m, (offset_h, offset_w))\n\u001b[1;32m     29\u001b[0m     interpolation \u001b[38;5;241m+\u001b[39m\u001b[38;5;241m=\u001b[39m r \u001b[38;5;241m*\u001b[39m (elevations \u001b[38;5;241m-\u001b[39m zdet)\n\u001b[1;32m     30\u001b[0m     chunk_dest\u001b[38;5;241m.\u001b[39mwrite(np\u001b[38;5;241m.\u001b[39mwhere(elevations \u001b[38;5;241m==\u001b[39m src\u001b[38;5;241m.\u001b[39mnodata, np\u001b[38;5;241m.\u001b[39mnan, interpolation), \u001b[38;5;241m1\u001b[39m)\n",
      "\u001b[0;31mNameError\u001b[0m: name 'offset_h' is not defined"
     ]
    }
   ],
   "source": [
    "res2 = fexec.get_result(fs=fs2)"
   ]
  },
  {
   "cell_type": "code",
   "execution_count": 117,
   "metadata": {},
   "outputs": [],
   "source": [
    "import geopandas\n",
    "\n",
    "gdf = geopandas.GeoDataFrame(meteo_data, geometry=geopandas.points_from_xy(meteo_data['longitud'], meteo_data['latitud']), crs=\"EPSG:4326\")"
   ]
  },
  {
   "cell_type": "code",
   "execution_count": 118,
   "metadata": {},
   "outputs": [
    {
     "data": {
      "text/html": [
       "<div>\n",
       "<style scoped>\n",
       "    .dataframe tbody tr th:only-of-type {\n",
       "        vertical-align: middle;\n",
       "    }\n",
       "\n",
       "    .dataframe tbody tr th {\n",
       "        vertical-align: top;\n",
       "    }\n",
       "\n",
       "    .dataframe thead th {\n",
       "        text-align: right;\n",
       "    }\n",
       "</style>\n",
       "<table border=\"1\" class=\"dataframe\">\n",
       "  <thead>\n",
       "    <tr style=\"text-align: right;\">\n",
       "      <th></th>\n",
       "      <th>codi_estacio</th>\n",
       "      <th>nom_estacio</th>\n",
       "      <th>latitud</th>\n",
       "      <th>longitud</th>\n",
       "      <th>RS</th>\n",
       "      <th>HRx</th>\n",
       "      <th>T</th>\n",
       "      <th>HR</th>\n",
       "      <th>PPT</th>\n",
       "      <th>Tx</th>\n",
       "      <th>...</th>\n",
       "      <th>VVx2</th>\n",
       "      <th>DVVx2</th>\n",
       "      <th>RN</th>\n",
       "      <th>VV6</th>\n",
       "      <th>DV6</th>\n",
       "      <th>VVx6</th>\n",
       "      <th>DVVx6</th>\n",
       "      <th>X</th>\n",
       "      <th>Y</th>\n",
       "      <th>geometry</th>\n",
       "    </tr>\n",
       "  </thead>\n",
       "  <tbody>\n",
       "    <tr>\n",
       "      <th>0</th>\n",
       "      <td>C6</td>\n",
       "      <td>Castellnou de Seana</td>\n",
       "      <td>41.65660</td>\n",
       "      <td>0.95172</td>\n",
       "      <td>942.0</td>\n",
       "      <td>30.0</td>\n",
       "      <td>29.8</td>\n",
       "      <td>28.0</td>\n",
       "      <td>0.0</td>\n",
       "      <td>30.6</td>\n",
       "      <td>...</td>\n",
       "      <td>NaN</td>\n",
       "      <td>NaN</td>\n",
       "      <td>NaN</td>\n",
       "      <td>NaN</td>\n",
       "      <td>NaN</td>\n",
       "      <td>NaN</td>\n",
       "      <td>NaN</td>\n",
       "      <td>329453.051334</td>\n",
       "      <td>4.613677e+06</td>\n",
       "      <td>POINT (0.95172 41.65660)</td>\n",
       "    </tr>\n",
       "    <tr>\n",
       "      <th>1</th>\n",
       "      <td>C7</td>\n",
       "      <td>Tàrrega</td>\n",
       "      <td>41.66695</td>\n",
       "      <td>1.16234</td>\n",
       "      <td>963.0</td>\n",
       "      <td>24.0</td>\n",
       "      <td>29.0</td>\n",
       "      <td>23.0</td>\n",
       "      <td>0.0</td>\n",
       "      <td>29.6</td>\n",
       "      <td>...</td>\n",
       "      <td>NaN</td>\n",
       "      <td>NaN</td>\n",
       "      <td>NaN</td>\n",
       "      <td>NaN</td>\n",
       "      <td>NaN</td>\n",
       "      <td>NaN</td>\n",
       "      <td>NaN</td>\n",
       "      <td>347015.268486</td>\n",
       "      <td>4.614430e+06</td>\n",
       "      <td>POINT (1.16234 41.66695)</td>\n",
       "    </tr>\n",
       "    <tr>\n",
       "      <th>2</th>\n",
       "      <td>C8</td>\n",
       "      <td>Cervera</td>\n",
       "      <td>41.67555</td>\n",
       "      <td>1.29609</td>\n",
       "      <td>957.0</td>\n",
       "      <td>28.0</td>\n",
       "      <td>26.9</td>\n",
       "      <td>27.0</td>\n",
       "      <td>0.0</td>\n",
       "      <td>27.3</td>\n",
       "      <td>...</td>\n",
       "      <td>NaN</td>\n",
       "      <td>NaN</td>\n",
       "      <td>NaN</td>\n",
       "      <td>NaN</td>\n",
       "      <td>NaN</td>\n",
       "      <td>NaN</td>\n",
       "      <td>NaN</td>\n",
       "      <td>358169.209304</td>\n",
       "      <td>4.615156e+06</td>\n",
       "      <td>POINT (1.29609 41.67555)</td>\n",
       "    </tr>\n",
       "    <tr>\n",
       "      <th>3</th>\n",
       "      <td>C9</td>\n",
       "      <td>Mas de Barberans</td>\n",
       "      <td>40.71825</td>\n",
       "      <td>0.39988</td>\n",
       "      <td>953.0</td>\n",
       "      <td>36.0</td>\n",
       "      <td>24.8</td>\n",
       "      <td>34.0</td>\n",
       "      <td>0.0</td>\n",
       "      <td>25.5</td>\n",
       "      <td>...</td>\n",
       "      <td>NaN</td>\n",
       "      <td>NaN</td>\n",
       "      <td>NaN</td>\n",
       "      <td>NaN</td>\n",
       "      <td>NaN</td>\n",
       "      <td>NaN</td>\n",
       "      <td>NaN</td>\n",
       "      <td>280386.027555</td>\n",
       "      <td>4.510733e+06</td>\n",
       "      <td>POINT (0.39988 40.71825)</td>\n",
       "    </tr>\n",
       "    <tr>\n",
       "      <th>4</th>\n",
       "      <td>CC</td>\n",
       "      <td>Orís</td>\n",
       "      <td>42.07398</td>\n",
       "      <td>2.20862</td>\n",
       "      <td>957.0</td>\n",
       "      <td>29.0</td>\n",
       "      <td>27.8</td>\n",
       "      <td>27.0</td>\n",
       "      <td>0.0</td>\n",
       "      <td>28.4</td>\n",
       "      <td>...</td>\n",
       "      <td>NaN</td>\n",
       "      <td>NaN</td>\n",
       "      <td>NaN</td>\n",
       "      <td>NaN</td>\n",
       "      <td>NaN</td>\n",
       "      <td>NaN</td>\n",
       "      <td>NaN</td>\n",
       "      <td>434535.543626</td>\n",
       "      <td>4.658293e+06</td>\n",
       "      <td>POINT (2.20862 42.07398)</td>\n",
       "    </tr>\n",
       "    <tr>\n",
       "      <th>...</th>\n",
       "      <td>...</td>\n",
       "      <td>...</td>\n",
       "      <td>...</td>\n",
       "      <td>...</td>\n",
       "      <td>...</td>\n",
       "      <td>...</td>\n",
       "      <td>...</td>\n",
       "      <td>...</td>\n",
       "      <td>...</td>\n",
       "      <td>...</td>\n",
       "      <td>...</td>\n",
       "      <td>...</td>\n",
       "      <td>...</td>\n",
       "      <td>...</td>\n",
       "      <td>...</td>\n",
       "      <td>...</td>\n",
       "      <td>...</td>\n",
       "      <td>...</td>\n",
       "      <td>...</td>\n",
       "      <td>...</td>\n",
       "      <td>...</td>\n",
       "    </tr>\n",
       "    <tr>\n",
       "      <th>72</th>\n",
       "      <td>WA</td>\n",
       "      <td>Oliola</td>\n",
       "      <td>41.87694</td>\n",
       "      <td>1.15410</td>\n",
       "      <td>NaN</td>\n",
       "      <td>NaN</td>\n",
       "      <td>NaN</td>\n",
       "      <td>24.0</td>\n",
       "      <td>NaN</td>\n",
       "      <td>NaN</td>\n",
       "      <td>...</td>\n",
       "      <td>NaN</td>\n",
       "      <td>NaN</td>\n",
       "      <td>NaN</td>\n",
       "      <td>NaN</td>\n",
       "      <td>NaN</td>\n",
       "      <td>NaN</td>\n",
       "      <td>NaN</td>\n",
       "      <td>346829.830334</td>\n",
       "      <td>4.637760e+06</td>\n",
       "      <td>POINT (1.15410 41.87694)</td>\n",
       "    </tr>\n",
       "    <tr>\n",
       "      <th>73</th>\n",
       "      <td>WV</td>\n",
       "      <td>Guardiola de Berguedà</td>\n",
       "      <td>42.23414</td>\n",
       "      <td>1.87485</td>\n",
       "      <td>NaN</td>\n",
       "      <td>NaN</td>\n",
       "      <td>NaN</td>\n",
       "      <td>NaN</td>\n",
       "      <td>NaN</td>\n",
       "      <td>NaN</td>\n",
       "      <td>...</td>\n",
       "      <td>NaN</td>\n",
       "      <td>NaN</td>\n",
       "      <td>NaN</td>\n",
       "      <td>NaN</td>\n",
       "      <td>NaN</td>\n",
       "      <td>NaN</td>\n",
       "      <td>NaN</td>\n",
       "      <td>407159.541620</td>\n",
       "      <td>4.676386e+06</td>\n",
       "      <td>POINT (1.87485 42.23414)</td>\n",
       "    </tr>\n",
       "    <tr>\n",
       "      <th>74</th>\n",
       "      <td>X5</td>\n",
       "      <td>PN dels Ports</td>\n",
       "      <td>40.79705</td>\n",
       "      <td>0.31822</td>\n",
       "      <td>NaN</td>\n",
       "      <td>NaN</td>\n",
       "      <td>20.6</td>\n",
       "      <td>NaN</td>\n",
       "      <td>NaN</td>\n",
       "      <td>NaN</td>\n",
       "      <td>...</td>\n",
       "      <td>NaN</td>\n",
       "      <td>NaN</td>\n",
       "      <td>NaN</td>\n",
       "      <td>NaN</td>\n",
       "      <td>NaN</td>\n",
       "      <td>NaN</td>\n",
       "      <td>NaN</td>\n",
       "      <td>273755.565351</td>\n",
       "      <td>4.519689e+06</td>\n",
       "      <td>POINT (0.31822 40.79705)</td>\n",
       "    </tr>\n",
       "    <tr>\n",
       "      <th>75</th>\n",
       "      <td>YC</td>\n",
       "      <td>la Pobla de Segur</td>\n",
       "      <td>42.24388</td>\n",
       "      <td>0.96802</td>\n",
       "      <td>NaN</td>\n",
       "      <td>NaN</td>\n",
       "      <td>NaN</td>\n",
       "      <td>NaN</td>\n",
       "      <td>NaN</td>\n",
       "      <td>NaN</td>\n",
       "      <td>...</td>\n",
       "      <td>NaN</td>\n",
       "      <td>NaN</td>\n",
       "      <td>NaN</td>\n",
       "      <td>NaN</td>\n",
       "      <td>NaN</td>\n",
       "      <td>NaN</td>\n",
       "      <td>NaN</td>\n",
       "      <td>332356.908891</td>\n",
       "      <td>4.678853e+06</td>\n",
       "      <td>POINT (0.96802 42.24388)</td>\n",
       "    </tr>\n",
       "    <tr>\n",
       "      <th>76</th>\n",
       "      <td>Z8</td>\n",
       "      <td>el Port del Comte (2.316 m)</td>\n",
       "      <td>42.18254</td>\n",
       "      <td>1.52407</td>\n",
       "      <td>NaN</td>\n",
       "      <td>NaN</td>\n",
       "      <td>NaN</td>\n",
       "      <td>NaN</td>\n",
       "      <td>0.0</td>\n",
       "      <td>NaN</td>\n",
       "      <td>...</td>\n",
       "      <td>NaN</td>\n",
       "      <td>NaN</td>\n",
       "      <td>NaN</td>\n",
       "      <td>NaN</td>\n",
       "      <td>NaN</td>\n",
       "      <td>NaN</td>\n",
       "      <td>NaN</td>\n",
       "      <td>378115.601242</td>\n",
       "      <td>4.671098e+06</td>\n",
       "      <td>POINT (1.52407 42.18254)</td>\n",
       "    </tr>\n",
       "  </tbody>\n",
       "</table>\n",
       "<p>77 rows × 33 columns</p>\n",
       "</div>"
      ],
      "text/plain": [
       "   codi_estacio                  nom_estacio   latitud  longitud     RS   HRx  \\\n",
       "0            C6          Castellnou de Seana  41.65660   0.95172  942.0  30.0   \n",
       "1            C7                      Tàrrega  41.66695   1.16234  963.0  24.0   \n",
       "2            C8                      Cervera  41.67555   1.29609  957.0  28.0   \n",
       "3            C9             Mas de Barberans  40.71825   0.39988  953.0  36.0   \n",
       "4            CC                         Orís  42.07398   2.20862  957.0  29.0   \n",
       "..          ...                          ...       ...       ...    ...   ...   \n",
       "72           WA                       Oliola  41.87694   1.15410    NaN   NaN   \n",
       "73           WV        Guardiola de Berguedà  42.23414   1.87485    NaN   NaN   \n",
       "74           X5                PN dels Ports  40.79705   0.31822    NaN   NaN   \n",
       "75           YC            la Pobla de Segur  42.24388   0.96802    NaN   NaN   \n",
       "76           Z8  el Port del Comte (2.316 m)  42.18254   1.52407    NaN   NaN   \n",
       "\n",
       "       T    HR  PPT    Tx  ...  VVx2  DVVx2  RN  VV6  DV6  VVx6  DVVx6  \\\n",
       "0   29.8  28.0  0.0  30.6  ...   NaN    NaN NaN  NaN  NaN   NaN    NaN   \n",
       "1   29.0  23.0  0.0  29.6  ...   NaN    NaN NaN  NaN  NaN   NaN    NaN   \n",
       "2   26.9  27.0  0.0  27.3  ...   NaN    NaN NaN  NaN  NaN   NaN    NaN   \n",
       "3   24.8  34.0  0.0  25.5  ...   NaN    NaN NaN  NaN  NaN   NaN    NaN   \n",
       "4   27.8  27.0  0.0  28.4  ...   NaN    NaN NaN  NaN  NaN   NaN    NaN   \n",
       "..   ...   ...  ...   ...  ...   ...    ...  ..  ...  ...   ...    ...   \n",
       "72   NaN  24.0  NaN   NaN  ...   NaN    NaN NaN  NaN  NaN   NaN    NaN   \n",
       "73   NaN   NaN  NaN   NaN  ...   NaN    NaN NaN  NaN  NaN   NaN    NaN   \n",
       "74  20.6   NaN  NaN   NaN  ...   NaN    NaN NaN  NaN  NaN   NaN    NaN   \n",
       "75   NaN   NaN  NaN   NaN  ...   NaN    NaN NaN  NaN  NaN   NaN    NaN   \n",
       "76   NaN   NaN  0.0   NaN  ...   NaN    NaN NaN  NaN  NaN   NaN    NaN   \n",
       "\n",
       "                X             Y                  geometry  \n",
       "0   329453.051334  4.613677e+06  POINT (0.95172 41.65660)  \n",
       "1   347015.268486  4.614430e+06  POINT (1.16234 41.66695)  \n",
       "2   358169.209304  4.615156e+06  POINT (1.29609 41.67555)  \n",
       "3   280386.027555  4.510733e+06  POINT (0.39988 40.71825)  \n",
       "4   434535.543626  4.658293e+06  POINT (2.20862 42.07398)  \n",
       "..            ...           ...                       ...  \n",
       "72  346829.830334  4.637760e+06  POINT (1.15410 41.87694)  \n",
       "73  407159.541620  4.676386e+06  POINT (1.87485 42.23414)  \n",
       "74  273755.565351  4.519689e+06  POINT (0.31822 40.79705)  \n",
       "75  332356.908891  4.678853e+06  POINT (0.96802 42.24388)  \n",
       "76  378115.601242  4.671098e+06  POINT (1.52407 42.18254)  \n",
       "\n",
       "[77 rows x 33 columns]"
      ]
     },
     "execution_count": 118,
     "metadata": {},
     "output_type": "execute_result"
    }
   ],
   "source": [
    "gdf"
   ]
  },
  {
   "cell_type": "code",
   "execution_count": 120,
   "metadata": {},
   "outputs": [
    {
     "data": {
      "text/html": [
       "<div>\n",
       "<style scoped>\n",
       "    .dataframe tbody tr th:only-of-type {\n",
       "        vertical-align: middle;\n",
       "    }\n",
       "\n",
       "    .dataframe tbody tr th {\n",
       "        vertical-align: top;\n",
       "    }\n",
       "\n",
       "    .dataframe thead th {\n",
       "        text-align: right;\n",
       "    }\n",
       "</style>\n",
       "<table border=\"1\" class=\"dataframe\">\n",
       "  <thead>\n",
       "    <tr style=\"text-align: right;\">\n",
       "      <th></th>\n",
       "      <th>codi_estacio</th>\n",
       "      <th>nom_estacio</th>\n",
       "      <th>latitud</th>\n",
       "      <th>longitud</th>\n",
       "      <th>RS</th>\n",
       "      <th>HRx</th>\n",
       "      <th>T</th>\n",
       "      <th>HR</th>\n",
       "      <th>PPT</th>\n",
       "      <th>Tx</th>\n",
       "      <th>...</th>\n",
       "      <th>RN</th>\n",
       "      <th>VV6</th>\n",
       "      <th>DV6</th>\n",
       "      <th>VVx6</th>\n",
       "      <th>DVVx6</th>\n",
       "      <th>X</th>\n",
       "      <th>Y</th>\n",
       "      <th>geometry</th>\n",
       "      <th>x</th>\n",
       "      <th>y</th>\n",
       "    </tr>\n",
       "  </thead>\n",
       "  <tbody>\n",
       "    <tr>\n",
       "      <th>0</th>\n",
       "      <td>C6</td>\n",
       "      <td>Castellnou de Seana</td>\n",
       "      <td>41.65660</td>\n",
       "      <td>0.95172</td>\n",
       "      <td>942.0</td>\n",
       "      <td>30.0</td>\n",
       "      <td>29.8</td>\n",
       "      <td>28.0</td>\n",
       "      <td>0.0</td>\n",
       "      <td>30.6</td>\n",
       "      <td>...</td>\n",
       "      <td>NaN</td>\n",
       "      <td>NaN</td>\n",
       "      <td>NaN</td>\n",
       "      <td>NaN</td>\n",
       "      <td>NaN</td>\n",
       "      <td>329453.051334</td>\n",
       "      <td>4.613677e+06</td>\n",
       "      <td>POINT (-1457203.006 4925124.611)</td>\n",
       "      <td>-1.457203e+06</td>\n",
       "      <td>4.925125e+06</td>\n",
       "    </tr>\n",
       "    <tr>\n",
       "      <th>1</th>\n",
       "      <td>C7</td>\n",
       "      <td>Tàrrega</td>\n",
       "      <td>41.66695</td>\n",
       "      <td>1.16234</td>\n",
       "      <td>963.0</td>\n",
       "      <td>24.0</td>\n",
       "      <td>29.0</td>\n",
       "      <td>23.0</td>\n",
       "      <td>0.0</td>\n",
       "      <td>29.6</td>\n",
       "      <td>...</td>\n",
       "      <td>NaN</td>\n",
       "      <td>NaN</td>\n",
       "      <td>NaN</td>\n",
       "      <td>NaN</td>\n",
       "      <td>NaN</td>\n",
       "      <td>347015.268486</td>\n",
       "      <td>4.614430e+06</td>\n",
       "      <td>POINT (-1439618.403 4920132.726)</td>\n",
       "      <td>-1.439618e+06</td>\n",
       "      <td>4.920133e+06</td>\n",
       "    </tr>\n",
       "    <tr>\n",
       "      <th>2</th>\n",
       "      <td>C8</td>\n",
       "      <td>Cervera</td>\n",
       "      <td>41.67555</td>\n",
       "      <td>1.29609</td>\n",
       "      <td>957.0</td>\n",
       "      <td>28.0</td>\n",
       "      <td>26.9</td>\n",
       "      <td>27.0</td>\n",
       "      <td>0.0</td>\n",
       "      <td>27.3</td>\n",
       "      <td>...</td>\n",
       "      <td>NaN</td>\n",
       "      <td>NaN</td>\n",
       "      <td>NaN</td>\n",
       "      <td>NaN</td>\n",
       "      <td>NaN</td>\n",
       "      <td>358169.209304</td>\n",
       "      <td>4.615156e+06</td>\n",
       "      <td>POINT (-1428367.654 4917212.875)</td>\n",
       "      <td>-1.428368e+06</td>\n",
       "      <td>4.917213e+06</td>\n",
       "    </tr>\n",
       "    <tr>\n",
       "      <th>3</th>\n",
       "      <td>C9</td>\n",
       "      <td>Mas de Barberans</td>\n",
       "      <td>40.71825</td>\n",
       "      <td>0.39988</td>\n",
       "      <td>953.0</td>\n",
       "      <td>36.0</td>\n",
       "      <td>24.8</td>\n",
       "      <td>34.0</td>\n",
       "      <td>0.0</td>\n",
       "      <td>25.5</td>\n",
       "      <td>...</td>\n",
       "      <td>NaN</td>\n",
       "      <td>NaN</td>\n",
       "      <td>NaN</td>\n",
       "      <td>NaN</td>\n",
       "      <td>NaN</td>\n",
       "      <td>280386.027555</td>\n",
       "      <td>4.510733e+06</td>\n",
       "      <td>POINT (-1539560.333 4839474.103)</td>\n",
       "      <td>-1.539560e+06</td>\n",
       "      <td>4.839474e+06</td>\n",
       "    </tr>\n",
       "    <tr>\n",
       "      <th>4</th>\n",
       "      <td>CC</td>\n",
       "      <td>Orís</td>\n",
       "      <td>42.07398</td>\n",
       "      <td>2.20862</td>\n",
       "      <td>957.0</td>\n",
       "      <td>29.0</td>\n",
       "      <td>27.8</td>\n",
       "      <td>27.0</td>\n",
       "      <td>0.0</td>\n",
       "      <td>28.4</td>\n",
       "      <td>...</td>\n",
       "      <td>NaN</td>\n",
       "      <td>NaN</td>\n",
       "      <td>NaN</td>\n",
       "      <td>NaN</td>\n",
       "      <td>NaN</td>\n",
       "      <td>434535.543626</td>\n",
       "      <td>4.658293e+06</td>\n",
       "      <td>POINT (-1338994.290 4935054.450)</td>\n",
       "      <td>-1.338994e+06</td>\n",
       "      <td>4.935054e+06</td>\n",
       "    </tr>\n",
       "  </tbody>\n",
       "</table>\n",
       "<p>5 rows × 35 columns</p>\n",
       "</div>"
      ],
      "text/plain": [
       "  codi_estacio          nom_estacio   latitud  longitud     RS   HRx     T  \\\n",
       "0           C6  Castellnou de Seana  41.65660   0.95172  942.0  30.0  29.8   \n",
       "1           C7              Tàrrega  41.66695   1.16234  963.0  24.0  29.0   \n",
       "2           C8              Cervera  41.67555   1.29609  957.0  28.0  26.9   \n",
       "3           C9     Mas de Barberans  40.71825   0.39988  953.0  36.0  24.8   \n",
       "4           CC                 Orís  42.07398   2.20862  957.0  29.0  27.8   \n",
       "\n",
       "     HR  PPT    Tx  ...  RN  VV6  DV6  VVx6  DVVx6              X  \\\n",
       "0  28.0  0.0  30.6  ... NaN  NaN  NaN   NaN    NaN  329453.051334   \n",
       "1  23.0  0.0  29.6  ... NaN  NaN  NaN   NaN    NaN  347015.268486   \n",
       "2  27.0  0.0  27.3  ... NaN  NaN  NaN   NaN    NaN  358169.209304   \n",
       "3  34.0  0.0  25.5  ... NaN  NaN  NaN   NaN    NaN  280386.027555   \n",
       "4  27.0  0.0  28.4  ... NaN  NaN  NaN   NaN    NaN  434535.543626   \n",
       "\n",
       "              Y                          geometry             x             y  \n",
       "0  4.613677e+06  POINT (-1457203.006 4925124.611) -1.457203e+06  4.925125e+06  \n",
       "1  4.614430e+06  POINT (-1439618.403 4920132.726) -1.439618e+06  4.920133e+06  \n",
       "2  4.615156e+06  POINT (-1428367.654 4917212.875) -1.428368e+06  4.917213e+06  \n",
       "3  4.510733e+06  POINT (-1539560.333 4839474.103) -1.539560e+06  4.839474e+06  \n",
       "4  4.658293e+06  POINT (-1338994.290 4935054.450) -1.338994e+06  4.935054e+06  \n",
       "\n",
       "[5 rows x 35 columns]"
      ]
     },
     "metadata": {},
     "output_type": "display_data"
    }
   ],
   "source": [
    "geo_df_3301 = gdf.dropna(subset=['T']).to_crs(epsg=3301)\n",
    "geo_df_3301['x'] = geo_df_3301['geometry'].apply(lambda p: p.x)\n",
    "geo_df_3301['y'] = geo_df_3301['geometry'].apply(lambda p: p.y)\n",
    "display(geo_df_3301.head(5))"
   ]
  },
  {
   "cell_type": "code",
   "execution_count": 136,
   "metadata": {},
   "outputs": [
    {
     "name": "stdout",
     "output_type": "stream",
     "text": [
      "Plotting Enabled\n",
      "\n",
      "Adjusting data for anisotropy...\n",
      "Initializing variogram model...\n",
      "Coordinates type: 'euclidean' \n",
      "\n",
      "Using 'linear' Variogram Model\n",
      "Slope: 1.5384989671850453e-05\n",
      "Nugget: 4.515840408012788 \n",
      "\n"
     ]
    },
    {
     "data": {
      "image/png": "[encoded data removed]",
      "text/plain": [
       "<Figure size 432x288 with 1 Axes>"
      ]
     },
     "metadata": {
      "needs_background": "light"
     },
     "output_type": "display_data"
    },
    {
     "name": "stdout",
     "output_type": "stream",
     "text": [
      "Calculating statistics on variogram model fit...\n"
     ]
    }
   ],
   "source": [
    "import pykrige.kriging_tools as kt\n",
    "from pykrige.ok import OrdinaryKriging\n",
    "\n",
    "OK = OrdinaryKriging(geo_df_3301['x'].astype(float).values,\n",
    "                     geo_df_3301['y'].astype(float).values,\n",
    "                     geo_df_3301['T'].values,\n",
    "                     variogram_model='linear',\n",
    "                     verbose=True,\n",
    "                     enable_plotting=True)"
   ]
  },
  {
   "cell_type": "code",
   "execution_count": 137,
   "metadata": {},
   "outputs": [
    {
     "data": {
      "text/plain": [
       "297.4693349766857"
      ]
     },
     "metadata": {},
     "output_type": "display_data"
    },
    {
     "data": {
      "text/plain": [
       "193.38601648181864"
      ]
     },
     "metadata": {},
     "output_type": "display_data"
    }
   ],
   "source": [
    "all_dist_m = geo_df_3301['x'].max() - geo_df_3301['x'].min()\n",
    "dist_km_x = all_dist_m / 1000\n",
    "display(dist_km_x)\n",
    "\n",
    "all_dist_m_y = geo_df_3301['y'].max() - geo_df_3301['y'].min()\n",
    "dist_km_y = all_dist_m_y / 1000\n",
    "display(dist_km_y)"
   ]
  },
  {
   "cell_type": "code",
   "execution_count": 138,
   "metadata": {},
   "outputs": [],
   "source": [
    "nx=int(dist_km_x)\n",
    "ny=int(dist_km_y)"
   ]
  },
  {
   "cell_type": "code",
   "execution_count": 139,
   "metadata": {},
   "outputs": [],
   "source": [
    "x_spacing = np.linspace(geo_df_3301['x'].min(), geo_df_3301['x'].max(), nx)\n",
    "y_spacing = np.linspace(geo_df_3301['y'].min(), geo_df_3301['y'].max(), ny)"
   ]
  },
  {
   "cell_type": "code",
   "execution_count": 140,
   "metadata": {},
   "outputs": [
    {
     "name": "stdout",
     "output_type": "stream",
     "text": [
      "Executing Ordinary Kriging...\n",
      "\n"
     ]
    }
   ],
   "source": [
    "z, ss = OK.execute('grid', x_spacing, y_spacing)"
   ]
  },
  {
   "cell_type": "code",
   "execution_count": 141,
   "metadata": {},
   "outputs": [
    {
     "data": {
      "text/plain": [
       "(193, 297)"
      ]
     },
     "metadata": {},
     "output_type": "display_data"
    },
    {
     "data": {
      "text/plain": [
       "(193, 297)"
      ]
     },
     "metadata": {},
     "output_type": "display_data"
    }
   ],
   "source": [
    "display(z.shape)\n",
    "display(ss.shape)"
   ]
  },
  {
   "cell_type": "code",
   "execution_count": 142,
   "metadata": {},
   "outputs": [],
   "source": [
    "x=geo_df_3301['x'].astype(float).values\n",
    "y=geo_df_3301['y'].astype(float).values\n",
    "# z=geo_df_3301['T'].values"
   ]
  },
  {
   "cell_type": "code",
   "execution_count": 143,
   "metadata": {},
   "outputs": [
    {
     "data": {
      "image/png": "[encoded data removed]",
      "text/plain": [
       "<Figure size 720x216 with 2 Axes>"
      ]
     },
     "metadata": {
      "needs_background": "light"
     },
     "output_type": "display_data"
    }
   ],
   "source": [
    "fig, (ax1, ax2) = plt.subplots(1,2, sharex=True, sharey=True, figsize=(10,3))\n",
    "\n",
    "ax1.imshow(np.flipud(z), extent=(x.min(), x.max(), y.min(), y.max()))\n",
    "ax1.set_title('Kriged pixels')\n",
    "\n",
    "# ax2.contourf(np.linspace(x.min(), x.max(), nx), np.linspace(y.min(), y.max(), ny), z)\n",
    "# ax2.set_title('Kriged interpolation contours')\n",
    "\n",
    "\n",
    "plt.show()"
   ]
  },
  {
   "cell_type": "code",
   "execution_count": null,
   "metadata": {},
   "outputs": [],
   "source": [
    "res1"
   ]
  },
  {
   "cell_type": "code",
   "execution_count": null,
   "metadata": {},
   "outputs": [],
   "source": [
    "fs_flat = [fs for sublist in [fs1, fs2, fs3, fs4] for fs in sublist]"
   ]
  },
  {
   "cell_type": "code",
   "execution_count": null,
   "metadata": {
    "tags": []
   },
   "outputs": [],
   "source": [
    "res = fexec.get_result(fs=fs_flat)"
   ]
  },
  {
   "cell_type": "markdown",
   "metadata": {},
   "source": [
    "---"
   ]
  },
  {
   "cell_type": "markdown",
   "metadata": {},
   "source": [
    "### KPIs (Interpolation)\n",
    "\n",
    "[Skip KPI section](#(End-of-KPI-section---Interpolation))"
   ]
  },
  {
   "cell_type": "code",
   "execution_count": null,
   "metadata": {
    "ExecuteTime": {
     "end_time": "2021-04-08T07:02:05.040966Z",
     "start_time": "2021-04-08T07:02:04.321663Z"
    }
   },
   "outputs": [],
   "source": [
    "fexec.plot(dst=\"plots/interpolation\")"
   ]
  },
  {
   "cell_type": "code",
   "execution_count": null,
   "metadata": {
    "ExecuteTime": {
     "end_time": "2021-04-08T07:02:45.854968Z",
     "start_time": "2021-04-08T07:02:45.848629Z"
    }
   },
   "outputs": [],
   "source": [
    "Image(filename=\"plots/interpolation_histogram.png\")"
   ]
  },
  {
   "cell_type": "code",
   "execution_count": null,
   "metadata": {
    "ExecuteTime": {
     "end_time": "2021-04-08T07:02:54.046898Z",
     "start_time": "2021-04-08T07:02:54.036980Z"
    }
   },
   "outputs": [],
   "source": [
    "Image(filename=\"plots/interpolation_timeline.png\")"
   ]
  },
  {
   "cell_type": "markdown",
   "metadata": {},
   "source": [
    "#### Data size "
   ]
  },
  {
   "cell_type": "markdown",
   "metadata": {},
   "source": [
    "List of .tif files being processed:"
   ]
  },
  {
   "cell_type": "code",
   "execution_count": null,
   "metadata": {
    "ExecuteTime": {
     "end_time": "2021-04-08T07:03:29.258771Z",
     "start_time": "2021-04-08T07:03:29.255051Z"
    }
   },
   "outputs": [],
   "source": [
    "mdts_gtiff"
   ]
  },
  {
   "cell_type": "markdown",
   "metadata": {},
   "source": [
    "Total size accounting that files were repeatedly processed:"
   ]
  },
  {
   "cell_type": "code",
   "execution_count": null,
   "metadata": {
    "ExecuteTime": {
     "end_time": "2021-04-08T07:03:33.021230Z",
     "start_time": "2021-04-08T07:03:32.728522Z"
    }
   },
   "outputs": [],
   "source": [
    "data_size = sum(obj[\"Size\"] for obj in cloud_storage.list_objects(BUCKET) if obj[\"Key\"] in mdts_gtiff)\n",
    "data_size *= 4  # Each file was processed 4 times\n",
    "\n",
    "print(f\"Data size: {data_size / 1024**2} MiB\")"
   ]
  },
  {
   "cell_type": "markdown",
   "metadata": {},
   "source": [
    "#### KPI: Cost"
   ]
  },
  {
   "cell_type": "code",
   "execution_count": null,
   "metadata": {
    "ExecuteTime": {
     "end_time": "2021-04-08T07:03:37.464531Z",
     "start_time": "2021-04-08T07:03:37.441706Z"
    }
   },
   "outputs": [],
   "source": [
    "fexec.job_summary()"
   ]
  },
  {
   "cell_type": "code",
   "execution_count": null,
   "metadata": {
    "ExecuteTime": {
     "end_time": "2021-04-08T07:03:51.895064Z",
     "start_time": "2021-04-08T07:03:51.879123Z"
    }
   },
   "outputs": [],
   "source": [
    "pd.read_csv(fexec.log_path)"
   ]
  },
  {
   "cell_type": "code",
   "execution_count": null,
   "metadata": {
    "ExecuteTime": {
     "end_time": "2021-04-08T07:03:39.286038Z",
     "start_time": "2021-04-08T07:03:39.276118Z"
    }
   },
   "outputs": [],
   "source": [
    "cost_interpolation = get_process_cost(fexec)\n",
    "print(f\"The experiment cost ${cost_interpolation:.4f}.\")"
   ]
  },
  {
   "cell_type": "markdown",
   "metadata": {},
   "source": [
    "#### KPI: Throughput"
   ]
  },
  {
   "cell_type": "code",
   "execution_count": null,
   "metadata": {
    "ExecuteTime": {
     "end_time": "2021-04-08T07:05:08.953755Z",
     "start_time": "2021-04-08T07:05:08.931643Z"
    }
   },
   "outputs": [],
   "source": [
    "tstamps = set()\n",
    "for future in fexec.futures:\n",
    "    for key in future.stats.keys():\n",
    "        if key.endswith(\"tstamp\"):\n",
    "            tstamps.add(future.stats[key])\n",
    "            \n",
    "duration = max(tstamps) - min(tstamps)\n",
    "print(\"Duration: \" + str(duration) + \" seconds\")"
   ]
  },
  {
   "cell_type": "code",
   "execution_count": null,
   "metadata": {
    "ExecuteTime": {
     "end_time": "2021-04-08T07:05:11.960461Z",
     "start_time": "2021-04-08T07:05:11.953193Z"
    }
   },
   "outputs": [],
   "source": [
    "throughput_interpolation = data_size / duration  # Bytes/second"
   ]
  },
  {
   "cell_type": "code",
   "execution_count": null,
   "metadata": {
    "ExecuteTime": {
     "end_time": "2021-04-08T07:05:13.342171Z",
     "start_time": "2021-04-08T07:05:13.338300Z"
    },
    "scrolled": true
   },
   "outputs": [],
   "source": [
    "print(f\"Throughput: {throughput_interpolation / 1024**2} MiB/s\")"
   ]
  },
  {
   "cell_type": "markdown",
   "metadata": {},
   "source": [
    "#### KPI: Speedup"
   ]
  },
  {
   "cell_type": "markdown",
   "metadata": {},
   "source": [
    "In this section we compare the execution speed of a sample process performed in last section, using different amounts of parallel workers, in order to test the scalability of the process."
   ]
  },
  {
   "cell_type": "code",
   "execution_count": null,
   "metadata": {
    "ExecuteTime": {
     "end_time": "2021-04-13T14:39:50.231357Z",
     "start_time": "2021-04-13T14:39:50.225667Z"
    }
   },
   "outputs": [],
   "source": [
    "parallel_workers = [12, 24, 48, 72]\n",
    "experiment_duration = dict.fromkeys(parallel_workers)"
   ]
  },
  {
   "cell_type": "markdown",
   "metadata": {},
   "source": [
    "Perform experiment several times and save duration:"
   ]
  },
  {
   "cell_type": "code",
   "execution_count": null,
   "metadata": {
    "ExecuteTime": {
     "end_time": "2021-04-13T14:41:52.721071Z",
     "start_time": "2021-04-13T14:40:15.651918Z"
    }
   },
   "outputs": [],
   "source": [
    "for option in parallel_workers:\n",
    "    fexec = lithops.FunctionExecutor(\n",
    "        backend=COMPUTE_BACKEND, \n",
    "        storage=STORAGE_BACKEND,\n",
    "        runtime=RUNTIME,\n",
    "        workers=option, # Tells lithops to work w/only this number of concurrent workers\n",
    "        log_level=\"DEBUG\"\n",
    "    )\n",
    "    fexec.map(\n",
    "        map_interpolation, iterdata, extra_args=(SPLITS,'temp'), runtime_memory=2048\n",
    "    )\n",
    "    fexec.get_result()\n",
    "    \n",
    "    tstamps = set()\n",
    "    for future in fexec.futures:\n",
    "        for key in future.stats.keys():\n",
    "            if key.endswith(\"tstamp\"):\n",
    "                tstamps.add(future.stats[key])\n",
    "    duration = max(tstamps) - min(tstamps)\n",
    "    experiment_duration[option] = duration"
   ]
  },
  {
   "cell_type": "code",
   "execution_count": null,
   "metadata": {
    "ExecuteTime": {
     "end_time": "2021-04-13T14:41:55.994144Z",
     "start_time": "2021-04-13T14:41:55.989057Z"
    },
    "scrolled": true
   },
   "outputs": [],
   "source": [
    "experiment_duration"
   ]
  },
  {
   "cell_type": "markdown",
   "metadata": {},
   "source": [
    "##### Visualization of per-worker performance relative to first experiment"
   ]
  },
  {
   "cell_type": "markdown",
   "metadata": {},
   "source": [
    "The following plot represents two lines:\n",
    "- **Ideal speedup**: theoretical best speedup - scenario where a 2x increment in workers results in 1/2 execution time, a 4x increment in workers results in a 1/4 execution time, etc.\n",
    "- **Lithops speedup**: actual speedup that results from the experiment"
   ]
  },
  {
   "cell_type": "code",
   "execution_count": null,
   "metadata": {
    "ExecuteTime": {
     "end_time": "2021-04-13T15:09:52.888690Z",
     "start_time": "2021-04-13T15:09:52.723516Z"
    }
   },
   "outputs": [],
   "source": [
    "duration = list(experiment_duration.values())\n",
    "theoretical_best_speedup = [(1 - parallel_workers[0] / parallel_workers[i]) * 100 for i in range(0, len(parallel_workers))]\n",
    "actual_speedup = [(1 - duration[i] / duration[0]) * 100 for i in range(0, len(duration))]\n",
    "\n",
    "plt.plot(\n",
    "    parallel_workers,\n",
    "    theoretical_best_speedup\n",
    ")\n",
    "plt.plot(\n",
    "    parallel_workers,\n",
    "    actual_speedup\n",
    ")\n",
    "plt.xlabel(\"Number of workers\")\n",
    "plt.ylabel(\"% time reduced, relative to first experiment\")\n",
    "plt.legend([\"Ideal speedup\", \"Lithops speedup (this experiment)\"])"
   ]
  },
  {
   "cell_type": "markdown",
   "metadata": {},
   "source": [
    "Clean stats:"
   ]
  },
  {
   "cell_type": "code",
   "execution_count": null,
   "metadata": {
    "ExecuteTime": {
     "end_time": "2021-04-08T07:11:22.584754Z",
     "start_time": "2021-04-08T07:11:22.577217Z"
    }
   },
   "outputs": [],
   "source": [
    "fexec.futures = []"
   ]
  },
  {
   "cell_type": "markdown",
   "metadata": {
    "ExecuteTime": {
     "end_time": "2021-04-08T07:10:54.929461Z",
     "start_time": "2021-04-08T07:10:54.917364Z"
    }
   },
   "source": [
    "###### (End of KPI section - Interpolation)"
   ]
  },
  {
   "cell_type": "markdown",
   "metadata": {},
   "source": [
    "---"
   ]
  },
  {
   "cell_type": "markdown",
   "metadata": {},
   "source": [
    "Join split subsets into a tile:"
   ]
  },
  {
   "cell_type": "code",
   "execution_count": null,
   "metadata": {
    "ExecuteTime": {
     "end_time": "2021-04-08T07:21:21.921233Z",
     "start_time": "2021-04-08T07:21:21.911497Z"
    }
   },
   "outputs": [],
   "source": [
    "def gather_blocks(tile, splits, data_field, storage):\n",
    "\n",
    "    from rasterio.windows import Window\n",
    "    \n",
    "    # Get width and height from original tile\n",
    "    with rasterio.open(storage.get_object(bucket=BUCKET, key=f'MDT/{tile}.tif', stream=True)) as og:\n",
    "        height = og.profile['height']\n",
    "        width = og.profile['width']\n",
    "    \n",
    "    chunk_tiles = storage.list_keys(bucket=BUCKET, prefix=f'tmp/{data_field}/{tile}/chunk')\n",
    "        \n",
    "    # Open first object to obtain profile metadata\n",
    "    with rasterio.open(storage.get_object(bucket=BUCKET, key=chunk_tiles[0], stream=True)) as src:\n",
    "        profile = src.profile\n",
    "        profile.update(width=width)\n",
    "        profile.update(height=height)\n",
    "\n",
    "    # Iterate each object and print its block into the destination file\n",
    "    with rasterio.open(\"output\", \"w\", **profile) as dest: \n",
    "        for chunk in chunk_tiles:\n",
    "            j, i = os.path.splitext(os.path.basename(chunk))[0].rsplit('_')[1].split('-')\n",
    "            j, i = int(j), int(i)\n",
    "            with rasterio.open(storage.get_object(bucket=BUCKET, key=chunk, stream=True)) as src:\n",
    "                step_w = math.floor(width / splits)\n",
    "                step_h = math.floor(height / splits)\n",
    "                curr_window = Window(round(step_w * i), round(step_h * j), src.width, src.height)\n",
    "                content = src.read(1)\n",
    "                dest.write(content, 1, window=curr_window)\n",
    "            # storage.delete_object(bucket=BUCKET, key=chunk)\n",
    "    \n",
    "    output_key = os.path.join('tmp', data_field, tile, '_'.join([tile, data_field.upper()+'.tif']))\n",
    "    with open('output', 'rb') as out_file:\n",
    "        storage.put_object(bucket=BUCKET, key=output_key, body=out_file)  \n",
    "    \n",
    "    return output_key"
   ]
  },
  {
   "cell_type": "markdown",
   "metadata": {},
   "source": [
    "Combine previous split subsets:"
   ]
  },
  {
   "cell_type": "code",
   "execution_count": null,
   "metadata": {
    "ExecuteTime": {
     "end_time": "2021-04-08T07:21:43.580625Z",
     "start_time": "2021-04-08T07:21:43.180508Z"
    },
    "scrolled": true
   },
   "outputs": [],
   "source": [
    "fexec.map(gather_blocks, tiles, extra_args=(SPLITS, 'extrad'), runtime_memory=2048)\n",
    "\n",
    "fexec.map(gather_blocks, tiles, extra_args=(SPLITS, 'humi'), runtime_memory=2048)\n",
    "\n",
    "fexec.map(gather_blocks, tiles, extra_args=(SPLITS, 'rad'), runtime_memory=2048)\n",
    "\n",
    "fexec.map(gather_blocks, tiles, extra_args=(SPLITS, 'temp'), runtime_memory=2048)\n",
    "\n",
    "fexec.map(gather_blocks, tiles, extra_args=(SPLITS, 'wind'), runtime_memory=2048)\n",
    "\n",
    "out_combined = fexec.get_result()"
   ]
  },
  {
   "cell_type": "markdown",
   "metadata": {},
   "source": [
    "### KPIs (Gather blocks)\n",
    "\n",
    "[Skip KPI section](#(End-of-KPI-section---Gather-blocks))"
   ]
  },
  {
   "cell_type": "code",
   "execution_count": null,
   "metadata": {
    "ExecuteTime": {
     "end_time": "2021-04-08T07:23:42.594365Z",
     "start_time": "2021-04-08T07:23:42.135958Z"
    }
   },
   "outputs": [],
   "source": [
    "fexec.plot(dst=\"plots/gather_blocks\")"
   ]
  },
  {
   "cell_type": "code",
   "execution_count": null,
   "metadata": {
    "ExecuteTime": {
     "end_time": "2021-04-08T07:23:44.168346Z",
     "start_time": "2021-04-08T07:23:44.162948Z"
    }
   },
   "outputs": [],
   "source": [
    "Image(filename=\"plots/gather_blocks_histogram.png\")"
   ]
  },
  {
   "cell_type": "code",
   "execution_count": null,
   "metadata": {
    "ExecuteTime": {
     "end_time": "2021-04-08T07:23:45.856957Z",
     "start_time": "2021-04-08T07:23:45.840851Z"
    }
   },
   "outputs": [],
   "source": [
    "Image(filename=\"plots/gather_blocks_timeline.png\")"
   ]
  },
  {
   "cell_type": "markdown",
   "metadata": {},
   "source": [
    "#### Data size"
   ]
  },
  {
   "cell_type": "code",
   "execution_count": null,
   "metadata": {
    "ExecuteTime": {
     "end_time": "2021-04-08T08:17:25.463278Z",
     "start_time": "2021-04-08T08:17:25.458630Z"
    }
   },
   "outputs": [],
   "source": [
    "mdts_gtiff"
   ]
  },
  {
   "cell_type": "code",
   "execution_count": null,
   "metadata": {
    "ExecuteTime": {
     "end_time": "2021-04-08T08:17:30.709533Z",
     "start_time": "2021-04-08T08:17:29.875330Z"
    }
   },
   "outputs": [],
   "source": [
    "data_size = sum(obj[\"Size\"] for obj in cloud_storage.list_objects(BUCKET) if obj[\"Key\"] in mdts_gtiff)\n",
    "data_size *= 4  # Each file was processed 4 times\n",
    "\n",
    "print(f\"Data size: {data_size / 1024**2} MiB\")"
   ]
  },
  {
   "cell_type": "markdown",
   "metadata": {},
   "source": [
    "#### KPI: Cost"
   ]
  },
  {
   "cell_type": "code",
   "execution_count": null,
   "metadata": {
    "ExecuteTime": {
     "end_time": "2021-04-08T08:18:54.513927Z",
     "start_time": "2021-04-08T08:18:54.486157Z"
    }
   },
   "outputs": [],
   "source": [
    "fexec.job_summary()"
   ]
  },
  {
   "cell_type": "code",
   "execution_count": null,
   "metadata": {
    "ExecuteTime": {
     "end_time": "2021-04-08T08:19:02.264749Z",
     "start_time": "2021-04-08T08:19:02.236457Z"
    }
   },
   "outputs": [],
   "source": [
    "pd.read_csv(fexec.log_path)"
   ]
  },
  {
   "cell_type": "code",
   "execution_count": null,
   "metadata": {
    "ExecuteTime": {
     "end_time": "2021-04-08T08:21:09.051314Z",
     "start_time": "2021-04-08T08:21:09.031537Z"
    }
   },
   "outputs": [],
   "source": [
    "cost_gather_blocks = get_process_cost(fexec)\n",
    "print(f\"The experiment cost ${cost_gather_blocks:.4f}.\")"
   ]
  },
  {
   "cell_type": "markdown",
   "metadata": {},
   "source": [
    "#### KPI: Throughput"
   ]
  },
  {
   "cell_type": "code",
   "execution_count": null,
   "metadata": {
    "ExecuteTime": {
     "end_time": "2021-04-08T08:19:57.208334Z",
     "start_time": "2021-04-08T08:19:57.189780Z"
    }
   },
   "outputs": [],
   "source": [
    "tstamps = set()\n",
    "for future in fexec.futures:\n",
    "    for key in future.stats.keys():\n",
    "        if key.endswith(\"tstamp\"):\n",
    "            tstamps.add(future.stats[key])\n",
    "            \n",
    "duration = max(tstamps) - min(tstamps)\n",
    "print(\"Duration: \" + str(duration) + \" seconds\")"
   ]
  },
  {
   "cell_type": "code",
   "execution_count": null,
   "metadata": {
    "ExecuteTime": {
     "end_time": "2021-04-08T08:21:20.407233Z",
     "start_time": "2021-04-08T08:21:20.404210Z"
    }
   },
   "outputs": [],
   "source": [
    "throughput_gather_blocks = data_size / duration  # Bytes/second"
   ]
  },
  {
   "cell_type": "code",
   "execution_count": null,
   "metadata": {
    "ExecuteTime": {
     "end_time": "2021-04-08T08:21:35.726076Z",
     "start_time": "2021-04-08T08:21:35.720504Z"
    }
   },
   "outputs": [],
   "source": [
    "print(f\"Throughput: {throughput_gather_blocks / 1024**2} MiB/s\")"
   ]
  },
  {
   "cell_type": "markdown",
   "metadata": {},
   "source": [
    "Clean stats:"
   ]
  },
  {
   "cell_type": "code",
   "execution_count": null,
   "metadata": {
    "ExecuteTime": {
     "end_time": "2021-04-08T08:22:57.849484Z",
     "start_time": "2021-04-08T08:22:57.844112Z"
    }
   },
   "outputs": [],
   "source": [
    "fexec.futures = []"
   ]
  },
  {
   "cell_type": "markdown",
   "metadata": {},
   "source": [
    "###### (End of KPI section - Gather blocks)"
   ]
  },
  {
   "cell_type": "markdown",
   "metadata": {},
   "source": [
    "---"
   ]
  },
  {
   "cell_type": "markdown",
   "metadata": {},
   "source": [
    "## Computation of potential evaporation"
   ]
  },
  {
   "cell_type": "code",
   "execution_count": null,
   "metadata": {
    "ExecuteTime": {
     "end_time": "2021-04-13T16:57:51.493674Z",
     "start_time": "2021-04-13T16:57:51.485032Z"
    }
   },
   "outputs": [],
   "source": [
    "def compute_crop_evapotranspiration(temperatures,\n",
    "                                    humidities,\n",
    "                                    wind_speeds,\n",
    "                                    external_radiations,\n",
    "                                    global_radiations,\n",
    "                                    KCs):\n",
    "    gamma = 0.665*101.3/1000\n",
    "    eSat = 0.6108 * np.exp((17.27*temperatures)/(temperatures+237.3))\n",
    "    delta = 4098 * eSat / np.power((temperatures + 237.3),2)\n",
    "    eA = np.where(humidities < 0, 0, eSat * humidities / 100)     # Avoid sqrt of a negative number\n",
    "    T4 = 4.903 * np.power((273.3 + temperatures),4)/1000000000\n",
    "    rSrS0 = global_radiations/(external_radiations * 0.75)\n",
    "    rN = 0.8* global_radiations-T4*(0.34-0.14*np.sqrt(eA))*((1.35*rSrS0)-0.35)\n",
    "    den = delta + gamma *(1 + 0.34* wind_speeds)\n",
    "    tRad = 0.408 * delta * rN / den\n",
    "    tAdv = gamma * (900/(temperatures+273))*wind_speeds * (eSat - eA)/den\n",
    "    return ((tRad + tAdv) * 7 * KCs).astype('float32')"
   ]
  },
  {
   "cell_type": "code",
   "execution_count": null,
   "metadata": {
    "ExecuteTime": {
     "end_time": "2021-04-13T16:57:52.760441Z",
     "start_time": "2021-04-13T16:57:52.753812Z"
    }
   },
   "outputs": [],
   "source": [
    "vineyard = ['VI', 'VO', 'VF', 'FV', 'CV' ]\n",
    "olive_grove = ['OV', 'VO', 'OF', 'FL', 'OC']\n",
    "fruit = ['FY', 'VF', 'OF', 'FF', 'CF']\n",
    "nuts = ['FS', 'FV', 'FL', 'FF', 'CS' ]\n",
    "citrus = ['CI', 'CV', 'OC', 'CF', 'CS' ]\n",
    "\n",
    "def get_kc(feature):\n",
    "    \n",
    "    # TODO: Get more precise values of Kc\n",
    "    sigpac_use = feature['properties']['uso_sigpac']\n",
    "    if sigpac_use in vineyard:\n",
    "        # Grapes for wine - 0.3, 0.7, 0.45\n",
    "        return 0.7  \n",
    "    if sigpac_use in olive_grove:\n",
    "        # Olive grove - ini: 0.65, med: 0.7, end: 0.7\n",
    "        return 0.7 \n",
    "    if sigpac_use in fruit:\n",
    "        # Apples, Cherries, Pears - 0.45, 0.95, 0.7\n",
    "        return 0.95\n",
    "    if sigpac_use in nuts:\n",
    "        # Almonds - 0.4, 0.9, 0.65\n",
    "        return 0.9\n",
    "    if sigpac_use in citrus:\n",
    "        # Citrus, without ground coverage - 0.7, 0.65, 0.7\n",
    "        return 0.65\n",
    "    \n",
    "    return None"
   ]
  },
  {
   "cell_type": "code",
   "execution_count": null,
   "metadata": {
    "ExecuteTime": {
     "end_time": "2021-04-13T16:57:54.250115Z",
     "start_time": "2021-04-13T16:57:54.243932Z"
    }
   },
   "outputs": [],
   "source": [
    "def get_geometry_window(src, geom_bounds):\n",
    "    left, bottom, right, top = geom_bounds\n",
    "    src_left, src_bottom, src_right, src_top = src.bounds\n",
    "    window = src.window(max(left,src_left), max(bottom,src_bottom), min(right,src_right), min(top,src_top))\n",
    "    window_floored = window.round_offsets(op='floor', pixel_precision=3)\n",
    "    w = math.ceil(window.width + window.col_off - window_floored.col_off)\n",
    "    h = math.ceil(window.height + window.row_off - window_floored.row_off)\n",
    "    return Window(window_floored.col_off, window_floored.row_off, w, h)     "
   ]
  },
  {
   "cell_type": "code",
   "execution_count": null,
   "metadata": {
    "ExecuteTime": {
     "end_time": "2021-04-13T16:57:57.781920Z",
     "start_time": "2021-04-13T16:57:57.770029Z"
    }
   },
   "outputs": [],
   "source": [
    "def compute_evapotranspiration_by_shape(tem, hum, win, rad, extrad, dst):\n",
    "    \n",
    "    import fiona\n",
    "    from shapely.geometry import shape, box\n",
    "    from rasterio import features\n",
    "    \n",
    "    non_arable_land = ['AG', 'CA', 'ED', 'FO', 'IM', 'PA', 'PR', 'ZU', 'ZV']\n",
    "    \n",
    "    with fiona.open('zip://shape.zip') as shape_src:\n",
    "        for feature in shape_src.filter(bbox=tem.bounds):\n",
    "            KC = get_kc(feature) \n",
    "            if KC is not None:   \n",
    "                geom = shape(feature['geometry'])  \n",
    "                window = get_geometry_window(tem, geom.bounds)              \n",
    "                win_transform = rasterio.windows.transform(window, tem.transform)\n",
    "                # Convert shape to raster matrix\n",
    "                image = features.rasterize([geom],\n",
    "                                           out_shape=(window.height, window.width),\n",
    "                                           transform = win_transform,\n",
    "                                           fill = 0,\n",
    "                                           default_value = 1).astype('bool')\n",
    "                # Get values to compute evapotranspiration\n",
    "                temperatures = tem.read(1, window=window)\n",
    "                humidities = hum.read(1, window=window)\n",
    "                wind_speeds = win.read(1, window=window)\n",
    "                # Convert from W to MJ (0.0036)\n",
    "                global_radiations = rad.read(1, window=window) * 0.0036\n",
    "                external_radiations = extrad.read(1, window=window) * 0.0036\n",
    "                KCs = np.full(temperatures.shape, KC)\n",
    "                # TODO: compute external radiation\n",
    "                #external_radiations = np.full(temperatures.shape, 14)\n",
    "                # TODO: compute global radiation\n",
    "                # global_radiations = np.full(temperatures.shape, 10)\n",
    "                etc = compute_crop_evapotranspiration(\n",
    "                        temperatures,\n",
    "                        humidities,\n",
    "                        wind_speeds,\n",
    "                        external_radiations,\n",
    "                        global_radiations,\n",
    "                        KCs\n",
    "                )\n",
    "                etc[temperatures == tem.nodata] = dst.nodata\n",
    "                etc[np.logical_not(image)] = dst.nodata\n",
    "                dst.write(etc + dst.read(1, window=window), 1, window=window)"
   ]
  },
  {
   "cell_type": "code",
   "execution_count": null,
   "metadata": {
    "ExecuteTime": {
     "end_time": "2021-04-13T16:57:59.216824Z",
     "start_time": "2021-04-13T16:57:59.207435Z"
    }
   },
   "outputs": [],
   "source": [
    "def compute_global_evapotranspiration(tem, hum, win, rad, extrad, dst):    \n",
    "    for ji, window in tem.block_windows(1):\n",
    "        bounds = rasterio.windows.bounds(window, tem.transform)\n",
    "        temperatures = tem.read(1, window=window)\n",
    "        humidities = hum.read(1, window=window)\n",
    "        wind_speeds = win.read(1, window=window)\n",
    "         # Convert from W to MJ (0.0036)\n",
    "        global_radiations = rad.read(1, window=window) * 0.0036\n",
    "        external_radiations = extrad.read(1, window=window) * 0.0036\n",
    "        # TODO: compute external radiation\n",
    "        #external_radiations = np.full(temperatures.shape, 14)\n",
    "        # TODO: compute global radiation\n",
    "        # global_radiations = np.full(temperatures.shape, 10)\n",
    "        # TODO: compute KCs\n",
    "        KCs = np.full(temperatures.shape, 1)\n",
    "        etc = compute_crop_evapotranspiration(\n",
    "                temperatures,\n",
    "                humidities,\n",
    "                wind_speeds,\n",
    "                external_radiations,\n",
    "                global_radiations,\n",
    "                KCs\n",
    "        )\n",
    "        dst.write(np.where(temperatures == tem.nodata, dst.nodata, etc), 1, window=window)"
   ]
  },
  {
   "cell_type": "code",
   "execution_count": null,
   "metadata": {
    "ExecuteTime": {
     "end_time": "2021-04-13T16:58:01.128416Z",
     "start_time": "2021-04-13T16:58:01.101842Z"
    }
   },
   "outputs": [],
   "source": [
    "def combine_calculations(tile, storage):\n",
    "    \n",
    "    from functools import partial\n",
    "      \n",
    "    # Download shapefile\n",
    "    shapefile = storage.get_object(bucket=BUCKET, key='shapefile.zip', stream=True)\n",
    "    with open('shape.zip', 'wb') as shapf:\n",
    "        for chunk in iter(partial(shapefile.read, 200 * 1024 * 1024), ''):\n",
    "            if not chunk:\n",
    "                break\n",
    "            shapf.write(chunk)\n",
    "    \n",
    "    temp = storage.get_object(bucket=BUCKET, key=f'tmp/temp/{tile}/{tile}_TEMP.tif', stream=True)\n",
    "    humi = storage.get_object(bucket=BUCKET, key=f'tmp/humi/{tile}/{tile}_HUMI.tif', stream=True)\n",
    "    rad = storage.get_object(bucket=BUCKET, key=f'tmp/rad/{tile}/{tile}_RAD.tif', stream=True)\n",
    "    extrad = storage.get_object(bucket=BUCKET, key=f'tmp/extrad/{tile}/{tile}_EXTRAD.tif', stream=True)\n",
    "    wind = storage.get_object(bucket=BUCKET, key=f'tmp/wind/{tile}/{tile}_WIND.tif', stream=True)\n",
    "    \n",
    "    with rasterio.open(temp) as temp_raster:\n",
    "        with rasterio.open(humi) as humi_raster:\n",
    "            with rasterio.open(rad) as rad_raster:\n",
    "                with rasterio.open(extrad) as extrad_raster:\n",
    "                    with rasterio.open(wind) as wind_raster:\n",
    "                        profile = temp_raster.profile\n",
    "                        profile.update(nodata=0)\n",
    "        \n",
    "                        with rasterio.open('output', 'w+', **profile) as dst:\n",
    "#                             compute_global_evapotranspiration(temp_raster, humi_raster, wind_raster,\n",
    "#                                                               rad_raster, extrad_raster, dst)\n",
    "                            compute_evapotranspiration_by_shape(temp_raster, humi_raster, wind_raster,\n",
    "                                                                rad_raster, extrad_raster, dst)\n",
    "    \n",
    "    out_key = f'etc/{tile}_ETC.tif'\n",
    "    with open('output', 'rb') as output_f:\n",
    "        storage.put_object(bucket=BUCKET, key=out_key, body=output_f)\n",
    "    return out_key"
   ]
  },
  {
   "cell_type": "code",
   "execution_count": null,
   "metadata": {
    "ExecuteTime": {
     "end_time": "2021-04-13T16:58:55.822484Z",
     "start_time": "2021-04-13T16:58:54.943303Z"
    },
    "scrolled": true
   },
   "outputs": [],
   "source": [
    "fexec.map(combine_calculations, tiles, runtime_memory=2048)\n",
    "\n",
    "res = fexec.get_result()"
   ]
  },
  {
   "cell_type": "markdown",
   "metadata": {},
   "source": [
    "### KPIs (Potential evaporation)\n",
    "\n",
    "[Skip KPI section](#(End-of-KPI-section---Potential-evaporation))"
   ]
  },
  {
   "cell_type": "code",
   "execution_count": null,
   "metadata": {
    "ExecuteTime": {
     "end_time": "2021-04-13T20:06:46.567960Z",
     "start_time": "2021-04-13T20:06:45.870566Z"
    }
   },
   "outputs": [],
   "source": [
    "fexec.plot(dst=\"plots/potential_evaporation\")"
   ]
  },
  {
   "cell_type": "code",
   "execution_count": null,
   "metadata": {
    "ExecuteTime": {
     "end_time": "2021-04-13T20:07:04.735119Z",
     "start_time": "2021-04-13T20:07:04.729026Z"
    }
   },
   "outputs": [],
   "source": [
    "Image(filename=\"plots/potential_evaporation_histogram.png\")"
   ]
  },
  {
   "cell_type": "code",
   "execution_count": null,
   "metadata": {
    "ExecuteTime": {
     "end_time": "2021-04-13T20:07:08.400698Z",
     "start_time": "2021-04-13T20:07:08.395328Z"
    }
   },
   "outputs": [],
   "source": [
    "Image(filename=\"plots/potential_evaporation_timeline.png\")"
   ]
  },
  {
   "cell_type": "markdown",
   "metadata": {},
   "source": [
    "#### Data size"
   ]
  },
  {
   "cell_type": "code",
   "execution_count": null,
   "metadata": {
    "ExecuteTime": {
     "end_time": "2021-04-13T20:08:12.027411Z",
     "start_time": "2021-04-13T20:08:12.018635Z"
    }
   },
   "outputs": [],
   "source": [
    "tiles"
   ]
  },
  {
   "cell_type": "code",
   "execution_count": null,
   "metadata": {
    "ExecuteTime": {
     "end_time": "2021-04-13T20:54:33.848670Z",
     "start_time": "2021-04-13T20:54:33.645465Z"
    }
   },
   "outputs": [],
   "source": [
    "data_size = 0\n",
    "\n",
    "for obj in cloud_storage.list_objects(BUCKET):\n",
    "    for tile in tiles:\n",
    "        if obj[\"Key\"] == f'tmp/temp/{tile}/{tile}_TEMP.tif' or \\\n",
    "                obj[\"Key\"] == f'tmp/humi/{tile}/{tile}_TEMP.tif' or \\\n",
    "                obj[\"Key\"] == f'tmp/rad/{tile}/{tile}_TEMP.tif' or \\\n",
    "                obj[\"Key\"] == f'tmp/extrad/{tile}/{tile}_TEMP.tif' or \\\n",
    "                obj[\"Key\"] == f'tmp/wind/{tile}/{tile}_TEMP.tif' or \\\n",
    "                obj[\"Key\"] == 'shapefile.zip':\n",
    "            data_size += obj[\"Size\"]\n",
    "\n",
    "print(f\"Data size: {data_size / 1024**2} MiB\")"
   ]
  },
  {
   "cell_type": "markdown",
   "metadata": {},
   "source": [
    "#### KPI: Cost"
   ]
  },
  {
   "cell_type": "code",
   "execution_count": null,
   "metadata": {
    "ExecuteTime": {
     "end_time": "2021-04-13T20:54:45.609853Z",
     "start_time": "2021-04-13T20:54:45.592066Z"
    }
   },
   "outputs": [],
   "source": [
    "fexec.job_summary()"
   ]
  },
  {
   "cell_type": "code",
   "execution_count": null,
   "metadata": {
    "ExecuteTime": {
     "end_time": "2021-04-13T20:07:16.935146Z",
     "start_time": "2021-04-13T20:07:16.918524Z"
    }
   },
   "outputs": [],
   "source": [
    "pd.read_csv(fexec.log_path)"
   ]
  },
  {
   "cell_type": "code",
   "execution_count": null,
   "metadata": {
    "ExecuteTime": {
     "end_time": "2021-04-13T20:07:26.235760Z",
     "start_time": "2021-04-13T20:07:26.226071Z"
    }
   },
   "outputs": [],
   "source": [
    "cost_potential_evaporation = get_process_cost(fexec)\n",
    "print(f\"The experiment cost ${cost_potential_evaporation:.4f}.\")"
   ]
  },
  {
   "cell_type": "markdown",
   "metadata": {},
   "source": [
    "#### KPI: Throughput"
   ]
  },
  {
   "cell_type": "code",
   "execution_count": null,
   "metadata": {
    "ExecuteTime": {
     "end_time": "2021-04-13T20:55:04.595689Z",
     "start_time": "2021-04-13T20:55:04.581005Z"
    },
    "tags": []
   },
   "outputs": [],
   "source": [
    "tstamps = set()\n",
    "for future in fexec.futures:\n",
    "    for key in future.stats.keys():\n",
    "        if key.endswith(\"tstamp\"):\n",
    "            tstamps.add(future.stats[key])\n",
    "            \n",
    "duration = max(tstamps) - min(tstamps)\n",
    "print(\"Duration: \" + str(duration) + \" seconds\")"
   ]
  },
  {
   "cell_type": "code",
   "execution_count": null,
   "metadata": {
    "ExecuteTime": {
     "end_time": "2021-04-13T20:55:07.194755Z",
     "start_time": "2021-04-13T20:55:07.192029Z"
    }
   },
   "outputs": [],
   "source": [
    "throughput_potential_evaporation = data_size / duration  # Bytes/second"
   ]
  },
  {
   "cell_type": "code",
   "execution_count": null,
   "metadata": {
    "ExecuteTime": {
     "end_time": "2021-04-13T20:55:09.220719Z",
     "start_time": "2021-04-13T20:55:09.212358Z"
    },
    "scrolled": true
   },
   "outputs": [],
   "source": [
    "print(f\"Throughput: {throughput_potential_evaporation / 1024**2} MiB/s\")"
   ]
  },
  {
   "cell_type": "markdown",
   "metadata": {},
   "source": [
    "#### KPI: Speedup"
   ]
  },
  {
   "cell_type": "markdown",
   "metadata": {},
   "source": [
    "In this section we compare the execution speed of a sample process performed in last section, using different amounts of parallel workers, in order to test the scalability of the process."
   ]
  },
  {
   "cell_type": "code",
   "execution_count": null,
   "metadata": {
    "ExecuteTime": {
     "end_time": "2021-04-13T21:10:15.560833Z",
     "start_time": "2021-04-13T21:10:15.556295Z"
    }
   },
   "outputs": [],
   "source": [
    "parallel_workers = [2, 4, 8]\n",
    "experiment_duration = dict.fromkeys(parallel_workers)"
   ]
  },
  {
   "cell_type": "markdown",
   "metadata": {},
   "source": [
    "Perform experiment several times and save duration:"
   ]
  },
  {
   "cell_type": "code",
   "execution_count": null,
   "metadata": {
    "ExecuteTime": {
     "end_time": "2021-04-13T21:26:47.958535Z",
     "start_time": "2021-04-13T21:10:17.409017Z"
    }
   },
   "outputs": [],
   "source": [
    "for option in parallel_workers:\n",
    "    fexec = lithops.FunctionExecutor(\n",
    "        backend=COMPUTE_BACKEND, \n",
    "        storage=STORAGE_BACKEND, \n",
    "        runtime=RUNTIME,\n",
    "        workers=option, # Tells lithops to work w/only this number of concurrent workers\n",
    "        log_level=\"NOTSET\"\n",
    "    )\n",
    "    fexec.map(combine_calculations, tiles, runtime_memory=2048)\n",
    "    fexec.get_result()\n",
    "    \n",
    "    tstamps = set()\n",
    "    for future in fexec.futures:\n",
    "        for key in future.stats.keys():\n",
    "            if key.endswith(\"tstamp\"):\n",
    "                tstamps.add(future.stats[key])\n",
    "    duration = max(tstamps) - min(tstamps)\n",
    "    experiment_duration[option] = duration"
   ]
  },
  {
   "cell_type": "code",
   "execution_count": null,
   "metadata": {
    "ExecuteTime": {
     "end_time": "2021-04-13T21:29:20.900597Z",
     "start_time": "2021-04-13T21:29:20.893752Z"
    },
    "scrolled": true
   },
   "outputs": [],
   "source": [
    "experiment_duration"
   ]
  },
  {
   "cell_type": "markdown",
   "metadata": {},
   "source": [
    "##### Visualization of per-worker performance relative to first experiment"
   ]
  },
  {
   "cell_type": "markdown",
   "metadata": {},
   "source": [
    "The following plot represents two lines:\n",
    "- **Ideal speedup**: theoretical best speedup - scenario where a 2x increment in workers results in 1/2 execution time, a 4x increment in workers results in a 1/4 execution time, etc.\n",
    "- **Lithops speedup**: actual speedup that results from the experiment"
   ]
  },
  {
   "cell_type": "code",
   "execution_count": null,
   "metadata": {
    "ExecuteTime": {
     "end_time": "2021-04-13T21:29:33.018923Z",
     "start_time": "2021-04-13T21:29:32.780739Z"
    }
   },
   "outputs": [],
   "source": [
    "duration = list(experiment_duration.values())\n",
    "theoretical_best_speedup = [(1 - parallel_workers[0] / parallel_workers[i]) * 100 for i in range(0, len(parallel_workers))]\n",
    "actual_speedup = [(1 - duration[i] / duration[0]) * 100 for i in range(0, len(duration))]\n",
    "\n",
    "plt.plot(\n",
    "    parallel_workers,\n",
    "    theoretical_best_speedup\n",
    ")\n",
    "plt.plot(\n",
    "    parallel_workers,\n",
    "    actual_speedup\n",
    ")\n",
    "plt.xlabel(\"Number of workers\")\n",
    "plt.ylabel(\"% time reduced, relative to first experiment\")\n",
    "plt.legend([\"Ideal speedup\", \"Lithops speedup (this experiment)\"])"
   ]
  },
  {
   "cell_type": "markdown",
   "metadata": {},
   "source": [
    "Clean stats:"
   ]
  },
  {
   "cell_type": "code",
   "execution_count": null,
   "metadata": {},
   "outputs": [],
   "source": [
    "fexec.futures = []"
   ]
  },
  {
   "cell_type": "markdown",
   "metadata": {},
   "source": [
    "###### (End of KPI section - Potential evaporation)"
   ]
  },
  {
   "cell_type": "markdown",
   "metadata": {},
   "source": [
    "---"
   ]
  },
  {
   "cell_type": "markdown",
   "metadata": {},
   "source": [
    "## Visualization of results"
   ]
  },
  {
   "cell_type": "code",
   "execution_count": null,
   "metadata": {
    "ExecuteTime": {
     "end_time": "2021-04-13T21:30:27.539704Z",
     "start_time": "2021-04-13T21:30:26.276005Z"
    }
   },
   "outputs": [],
   "source": [
    "import io\n",
    "tile = random.choice(tiles)\n",
    "obj = io.BytesIO(cloud_storage.get_object(bucket=BUCKET, key=f'etc/{tile}_ETC.tif'))"
   ]
  },
  {
   "cell_type": "code",
   "execution_count": null,
   "metadata": {
    "ExecuteTime": {
     "end_time": "2021-04-13T21:32:01.429761Z",
     "start_time": "2021-04-13T21:32:00.245568Z"
    }
   },
   "outputs": [],
   "source": [
    "from matplotlib import pyplot as plt\n",
    "\n",
    "fig, ax = plt.subplots()\n",
    "\n",
    "with rasterio.open(obj) as src:\n",
    "    arr = src.read(1, out_shape=(src.height, src.width))\n",
    "    ax.set_title(tile)\n",
    "    img = ax.imshow(arr, cmap='Greens')\n",
    "    fig.colorbar(img, shrink=0.5)\n",
    "\n",
    "fig.set_size_inches(18.5, 10.5)\n",
    "plt.show()\n",
    "\n",
    "obj.seek(0)"
   ]
  },
  {
   "cell_type": "markdown",
   "metadata": {},
   "source": [
    "### Utility functions"
   ]
  },
  {
   "cell_type": "markdown",
   "metadata": {},
   "source": [
    "Remove intermediate data"
   ]
  },
  {
   "cell_type": "code",
   "execution_count": null,
   "metadata": {
    "ExecuteTime": {
     "end_time": "2021-03-29T10:06:07.571233Z",
     "start_time": "2021-03-29T10:05:14.526Z"
    }
   },
   "outputs": [],
   "source": [
    "# keys = cloud_storage.list_keys(bucket=BUCKET, prefix='')\n",
    "# keys"
   ]
  },
  {
   "cell_type": "code",
   "execution_count": null,
   "metadata": {
    "ExecuteTime": {
     "end_time": "2021-03-29T10:06:07.574068Z",
     "start_time": "2021-03-29T10:05:14.528Z"
    }
   },
   "outputs": [],
   "source": [
    "# for key in keys:\n",
    "#     cloud_storage.delete_object(bucket=BUCKET, key=key)"
   ]
  },
  {
   "cell_type": "code",
   "execution_count": null,
   "metadata": {},
   "outputs": [],
   "source": []
  }
 ],
 "metadata": {
  "kernelspec": {
   "display_name": "Python 3",
   "language": "python",
   "name": "python3"
  },
  "language_info": {
   "codemirror_mode": {
    "name": "ipython",
    "version": 3
   },
   "file_extension": ".py",
   "mimetype": "text/x-python",
   "name": "python",
   "nbconvert_exporter": "python",
   "pygments_lexer": "ipython3",
   "version": "3.9.12"
  }
 },
 "nbformat": 4,
 "nbformat_minor": 4
}
